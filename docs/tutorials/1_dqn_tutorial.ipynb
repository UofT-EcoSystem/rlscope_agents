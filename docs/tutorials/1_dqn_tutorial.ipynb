{
 "cells": [
  {
   "cell_type": "markdown",
   "metadata": {
    "colab_type": "text",
    "id": "klGNgWREsvQv"
   },
   "source": [
    "##### Copyright 2018 The TF-Agents Authors."
   ]
  },
  {
   "cell_type": "code",
   "execution_count": 0,
   "metadata": {
    "cellView": "form",
    "colab": {},
    "colab_type": "code",
    "id": "nQnmcm0oI1Q-"
   },
   "outputs": [],
   "source": [
    "#@title Licensed under the Apache License, Version 2.0 (the \"License\");\n",
    "# you may not use this file except in compliance with the License.\n",
    "# You may obtain a copy of the License at\n",
    "#\n",
    "# https://www.apache.org/licenses/LICENSE-2.0\n",
    "#\n",
    "# Unless required by applicable law or agreed to in writing, software\n",
    "# distributed under the License is distributed on an \"AS IS\" BASIS,\n",
    "# WITHOUT WARRANTIES OR CONDITIONS OF ANY KIND, either express or implied.\n",
    "# See the License for the specific language governing permissions and\n",
    "# limitations under the License."
   ]
  },
  {
   "cell_type": "markdown",
   "metadata": {
    "colab_type": "text",
    "id": "pmDI-h7cI0tI"
   },
   "source": [
    "# Train a Deep Q Network with TF-Agents\n",
    "\n",
    "<table class=\"tfo-notebook-buttons\" align=\"left\">\n",
    "  <td>\n",
    "    <a target=\"_blank\" href=\"https://www.tensorflow.org/agents/tutorials/1_dqn_tutorial\">\n",
    "    <img src=\"https://www.tensorflow.org/images/tf_logo_32px.png\" />\n",
    "    View on TensorFlow.org</a>\n",
    "  </td>\n",
    "  <td>\n",
    "    <a target=\"_blank\" href=\"https://colab.research.google.com/github/tensorflow/agents/blob/master/docs/tutorials/1_dqn_tutorial.ipynb\">\n",
    "    <img src=\"https://www.tensorflow.org/images/colab_logo_32px.png\" />\n",
    "    Run in Google Colab</a>\n",
    "  </td>\n",
    "  <td>\n",
    "    <a target=\"_blank\" href=\"https://github.com/tensorflow/agents/blob/master/docs/tutorials/1_dqn_tutorial.ipynb\">\n",
    "    <img src=\"https://www.tensorflow.org/images/GitHub-Mark-32px.png\" />\n",
    "    View source on GitHub</a>\n",
    "  </td>\n",
    "  <td>\n",
    "    <a href=\"https://storage.googleapis.com/tensorflow_docs/agents/docs/tutorials/1_dqn_tutorial.ipynb\"><img src=\"https://www.tensorflow.org/images/download_logo_32px.png\" />Download notebook</a>\n",
    "  </td>\n",
    "</table>"
   ]
  },
  {
   "cell_type": "markdown",
   "metadata": {
    "colab_type": "text",
    "id": "lsaQlK8fFQqH"
   },
   "source": [
    "## Introduction\n"
   ]
  },
  {
   "cell_type": "markdown",
   "metadata": {
    "colab_type": "text",
    "id": "cKOCZlhUgXVK"
   },
   "source": [
    "This example shows how to train a [DQN (Deep Q Networks)](https://storage.googleapis.com/deepmind-media/dqn/DQNNaturePaper.pdf)  agent on the Cartpole environment using the TF-Agents library.\n",
    "\n",
    "![Cartpole environment](https://raw.githubusercontent.com/tensorflow/agents/master/docs/tutorials/images/cartpole.png)\n",
    "\n",
    "It will walk you through all the components in a Reinforcement Learning (RL) pipeline for training, evaluation and data collection.\n",
    "\n",
    "\n",
    "To run this code live, click the 'Run in Google Colab' link above.\n"
   ]
  },
  {
   "cell_type": "markdown",
   "metadata": {
    "colab_type": "text",
    "id": "1u9QVVsShC9X"
   },
   "source": [
    "## Setup"
   ]
  },
  {
   "cell_type": "code",
   "execution_count": 1,
   "metadata": {
    "colab": {},
    "colab_type": "code",
    "id": "4KmsKpm7bHzJ"
   },
   "outputs": [],
   "source": [
    "try:\n",
    "  %tensorflow_version 2.x\n",
    "except:\n",
    "  pass\n"
   ]
  },
  {
   "cell_type": "markdown",
   "metadata": {
    "colab_type": "text",
    "id": "kNrNXKI7bINP"
   },
   "source": [
    "If you haven't installed the following dependencies, run:"
   ]
  },
  {
   "cell_type": "code",
   "execution_count": 2,
   "metadata": {
    "colab": {},
    "colab_type": "code",
    "id": "KEHR2Ui-lo8O"
   },
   "outputs": [
    {
     "name": "stdout",
     "output_type": "stream",
     "text": [
      "Hit:1 http://security.ubuntu.com/ubuntu bionic-security InRelease\n",
      "Hit:2 http://archive.ubuntu.com/ubuntu bionic InRelease                        \n",
      "Ign:3 https://developer.download.nvidia.com/compute/cuda/repos/ubuntu1804/x86_64  InRelease\n",
      "Hit:4 http://archive.ubuntu.com/ubuntu bionic-updates InRelease                \n",
      "Ign:5 https://developer.download.nvidia.com/compute/machine-learning/repos/ubuntu1804/x86_64  InRelease\n",
      "Hit:6 https://deb.nodesource.com/node_10.x bionic InRelease\n",
      "Hit:7 https://developer.download.nvidia.com/compute/cuda/repos/ubuntu1804/x86_64  Release\n",
      "Hit:8 http://archive.ubuntu.com/ubuntu bionic-backports InRelease       \n",
      "Hit:9 https://developer.download.nvidia.com/compute/machine-learning/repos/ubuntu1804/x86_64  Release\n",
      "Reading package lists... Done                     \n",
      "Reading package lists... Done\n",
      "Building dependency tree       \n",
      "Reading state information... Done\n",
      "The following additional packages will be installed:\n",
      "  freeglut3 i965-va-driver libaacs0 libass9 libavc1394-0 libavcodec57\n",
      "  libavdevice57 libavfilter6 libavformat57 libavresample3 libavutil55\n",
      "  libbdplus0 libbluray2 libbs2b0 libcaca0 libcdio-cdda2 libcdio-paranoia2\n",
      "  libcdio17 libchromaprint1 libcrystalhd3 libdc1394-22 libegl-mesa0 libegl1\n",
      "  libfftw3-double3 libflite1 libfribidi0 libgbm1 libglu1-mesa libgme0 libgsm1\n",
      "  libiec61883-0 libjack-jackd2-0 libmp3lame0 libmpg123-0 libmysofa0 libnuma1\n",
      "  libopenal-data libopenal1 libopenjp2-7 libopenmpt0 libopus0 libpostproc54\n",
      "  libraw1394-11 librubberband2 libsamplerate0 libsdl2-2.0-0 libshine3\n",
      "  libslang2 libsnappy1v5 libsndio6.1 libsoxr0 libspeex1 libssh-gcrypt-4\n",
      "  libswresample2 libswscale4 libtheora0 libtwolame0 libusb-1.0-0 libva-drm2\n",
      "  libva-x11-2 libva2 libvdpau1 libvorbisfile3 libvpx5 libwavpack1\n",
      "  libwayland-client0 libwayland-cursor0 libwayland-egl1 libwayland-egl1-mesa\n",
      "  libwayland-server0 libwebp6 libwebpmux3 libx264-152 libx265-146\n",
      "  libxcb-xfixes0 libxfont2 libxkbcommon0 libxkbfile1 libxss1 libxvidcore4\n",
      "  libzvbi-common libzvbi0 mesa-va-drivers mesa-vdpau-drivers va-driver-all\n",
      "  vdpau-driver-all x11-xkb-utils xauth xfonts-base xfonts-encodings\n",
      "  xfonts-utils xkb-data xserver-common\n",
      "Suggested packages:\n",
      "  ffmpeg-doc i965-va-driver-shaders libbluray-bdj firmware-crystalhd\n",
      "  libfftw3-bin libfftw3-dev jackd2 libportaudio2 opus-tools libraw1394-doc\n",
      "  sndiod speex python3-tk python3-numpy libgle3 libvdpau-va-gl1\n",
      "  nvidia-vdpau-driver nvidia-legacy-340xx-vdpau-driver\n",
      "The following NEW packages will be installed:\n",
      "  ffmpeg freeglut3 i965-va-driver libaacs0 libass9 libavc1394-0 libavcodec57\n",
      "  libavdevice57 libavfilter6 libavformat57 libavresample3 libavutil55\n",
      "  libbdplus0 libbluray2 libbs2b0 libcaca0 libcdio-cdda2 libcdio-paranoia2\n",
      "  libcdio17 libchromaprint1 libcrystalhd3 libdc1394-22 libegl-mesa0 libegl1\n",
      "  libfftw3-double3 libflite1 libfribidi0 libgbm1 libglu1-mesa libgme0 libgsm1\n",
      "  libiec61883-0 libjack-jackd2-0 libmp3lame0 libmpg123-0 libmysofa0 libnuma1\n",
      "  libopenal-data libopenal1 libopenjp2-7 libopenmpt0 libopus0 libpostproc54\n",
      "  libraw1394-11 librubberband2 libsamplerate0 libsdl2-2.0-0 libshine3\n",
      "  libslang2 libsnappy1v5 libsndio6.1 libsoxr0 libspeex1 libssh-gcrypt-4\n",
      "  libswresample2 libswscale4 libtheora0 libtwolame0 libusb-1.0-0 libva-drm2\n",
      "  libva-x11-2 libva2 libvdpau1 libvorbisfile3 libvpx5 libwavpack1\n",
      "  libwayland-client0 libwayland-cursor0 libwayland-egl1 libwayland-egl1-mesa\n",
      "  libwayland-server0 libwebp6 libwebpmux3 libx264-152 libx265-146\n",
      "  libxcb-xfixes0 libxfont2 libxkbcommon0 libxkbfile1 libxss1 libxvidcore4\n",
      "  libzvbi-common libzvbi0 mesa-va-drivers mesa-vdpau-drivers python3-opengl\n",
      "  va-driver-all vdpau-driver-all x11-xkb-utils xauth xfonts-base\n",
      "  xfonts-encodings xfonts-utils xkb-data xserver-common xvfb\n",
      "0 upgraded, 96 newly installed, 0 to remove and 59 not upgraded.\n",
      "Need to get 45.7 MB of archives.\n",
      "After this operation, 183 MB of additional disk space will be used.\n",
      "Get:1 http://archive.ubuntu.com/ubuntu bionic/main amd64 libxss1 amd64 1:1.2.2-1 [8582 B]\n",
      "Get:2 http://archive.ubuntu.com/ubuntu bionic/main amd64 libfribidi0 amd64 0.19.7-2 [24.9 kB]\n",
      "Get:3 http://archive.ubuntu.com/ubuntu bionic/main amd64 libslang2 amd64 2.3.1a-3ubuntu1 [424 kB]\n",
      "Get:4 http://archive.ubuntu.com/ubuntu bionic-updates/main amd64 xkb-data all 2.23.1-1ubuntu1.18.04.1 [325 kB]\n",
      "Get:5 http://archive.ubuntu.com/ubuntu bionic-updates/main amd64 libnuma1 amd64 2.0.11-2.1ubuntu0.1 [22.0 kB]\n",
      "Get:6 http://archive.ubuntu.com/ubuntu bionic/main amd64 libusb-1.0-0 amd64 2:1.0.21-2 [43.3 kB]\n",
      "Get:7 http://archive.ubuntu.com/ubuntu bionic/main amd64 xauth amd64 1:1.0.10-1 [24.6 kB]\n",
      "Get:8 http://archive.ubuntu.com/ubuntu bionic/universe amd64 libva2 amd64 2.1.0-3 [47.6 kB]\n",
      "Get:9 http://archive.ubuntu.com/ubuntu bionic/universe amd64 libva-drm2 amd64 2.1.0-3 [6880 B]\n",
      "Get:10 http://archive.ubuntu.com/ubuntu bionic/universe amd64 libva-x11-2 amd64 2.1.0-3 [11.5 kB]\n",
      "Get:11 http://archive.ubuntu.com/ubuntu bionic/main amd64 libvdpau1 amd64 1.1.1-3ubuntu1 [25.5 kB]\n",
      "Get:12 http://archive.ubuntu.com/ubuntu bionic-updates/universe amd64 libavutil55 amd64 7:3.4.8-0ubuntu0.2 [190 kB]\n",
      "Get:13 http://archive.ubuntu.com/ubuntu bionic/universe amd64 libcrystalhd3 amd64 1:0.0~git20110715.fdd2f19-12 [45.8 kB]\n",
      "Get:14 http://archive.ubuntu.com/ubuntu bionic/universe amd64 libgsm1 amd64 1.0.13-4build1 [22.4 kB]\n",
      "Get:15 http://archive.ubuntu.com/ubuntu bionic/main amd64 libmp3lame0 amd64 3.100-2 [136 kB]\n",
      "Get:16 http://archive.ubuntu.com/ubuntu bionic-updates/universe amd64 libopenjp2-7 amd64 2.3.0-2build0.18.04.1 [145 kB]\n",
      "Get:17 http://archive.ubuntu.com/ubuntu bionic/main amd64 libopus0 amd64 1.1.2-1ubuntu1 [159 kB]\n",
      "Get:18 http://archive.ubuntu.com/ubuntu bionic/universe amd64 libshine3 amd64 3.1.1-1 [22.9 kB]\n",
      "Get:19 http://archive.ubuntu.com/ubuntu bionic/main amd64 libsnappy1v5 amd64 1.1.7-1 [16.0 kB]\n",
      "Get:20 http://archive.ubuntu.com/ubuntu bionic/main amd64 libspeex1 amd64 1.2~rc1.2-1ubuntu2 [52.1 kB]\n",
      "Get:21 http://archive.ubuntu.com/ubuntu bionic/universe amd64 libsoxr0 amd64 0.1.2-3 [65.9 kB]\n",
      "Get:22 http://archive.ubuntu.com/ubuntu bionic-updates/universe amd64 libswresample2 amd64 7:3.4.8-0ubuntu0.2 [55.2 kB]\n",
      "Get:23 http://archive.ubuntu.com/ubuntu bionic/main amd64 libtheora0 amd64 1.1.1+dfsg.1-14 [170 kB]\n",
      "Get:24 http://archive.ubuntu.com/ubuntu bionic/main amd64 libtwolame0 amd64 0.3.13-3 [46.7 kB]\n",
      "Get:25 http://archive.ubuntu.com/ubuntu bionic-updates/main amd64 libvpx5 amd64 1.7.0-3ubuntu0.18.04.1 [796 kB]\n",
      "Get:26 http://archive.ubuntu.com/ubuntu bionic-updates/main amd64 libwavpack1 amd64 5.1.0-2ubuntu1.4 [76.6 kB]\n",
      "Get:27 http://archive.ubuntu.com/ubuntu bionic/main amd64 libwebp6 amd64 0.6.1-2 [185 kB]\n",
      "Get:28 http://archive.ubuntu.com/ubuntu bionic/main amd64 libwebpmux3 amd64 0.6.1-2 [19.6 kB]\n",
      "Get:29 http://archive.ubuntu.com/ubuntu bionic/universe amd64 libx264-152 amd64 2:0.152.2854+gite9a5903-2 [609 kB]\n",
      "Get:30 http://archive.ubuntu.com/ubuntu bionic/universe amd64 libx265-146 amd64 2.6-3 [1026 kB]\n",
      "Get:31 http://archive.ubuntu.com/ubuntu bionic/universe amd64 libxvidcore4 amd64 2:1.3.5-1 [200 kB]\n",
      "Get:32 http://archive.ubuntu.com/ubuntu bionic/universe amd64 libzvbi-common all 0.2.35-13 [32.1 kB]\n",
      "Get:33 http://archive.ubuntu.com/ubuntu bionic/universe amd64 libzvbi0 amd64 0.2.35-13 [235 kB]\n",
      "Get:34 http://archive.ubuntu.com/ubuntu bionic-updates/universe amd64 libavcodec57 amd64 7:3.4.8-0ubuntu0.2 [4595 kB]\n",
      "Get:35 http://archive.ubuntu.com/ubuntu bionic/main amd64 libraw1394-11 amd64 2.1.2-1 [30.7 kB]\n",
      "Get:36 http://archive.ubuntu.com/ubuntu bionic/main amd64 libavc1394-0 amd64 0.5.4-4build1 [16.1 kB]\n",
      "Get:37 http://archive.ubuntu.com/ubuntu bionic/universe amd64 libass9 amd64 1:0.14.0-1 [88.2 kB]\n",
      "Get:38 http://archive.ubuntu.com/ubuntu bionic/universe amd64 libbluray2 amd64 1:1.0.2-3 [141 kB]\n",
      "Get:39 http://archive.ubuntu.com/ubuntu bionic/universe amd64 libchromaprint1 amd64 1.4.3-1 [36.8 kB]\n",
      "Get:40 http://archive.ubuntu.com/ubuntu bionic/universe amd64 libgme0 amd64 0.6.2-1 [121 kB]\n",
      "Get:41 http://archive.ubuntu.com/ubuntu bionic/main amd64 libmpg123-0 amd64 1.25.10-1 [125 kB]\n",
      "Get:42 http://archive.ubuntu.com/ubuntu bionic/main amd64 libvorbisfile3 amd64 1.3.5-4.2 [16.0 kB]\n",
      "Get:43 http://archive.ubuntu.com/ubuntu bionic/universe amd64 libopenmpt0 amd64 0.3.6-1 [561 kB]\n"
     ]
    },
    {
     "name": "stdout",
     "output_type": "stream",
     "text": [
      "Get:44 http://archive.ubuntu.com/ubuntu bionic-updates/main amd64 libssh-gcrypt-4 amd64 0.8.0~20170825.94fa1e38-1ubuntu0.7 [172 kB]\n",
      "Get:45 http://archive.ubuntu.com/ubuntu bionic-updates/universe amd64 libavformat57 amd64 7:3.4.8-0ubuntu0.2 [953 kB]\n",
      "Get:46 http://archive.ubuntu.com/ubuntu bionic-updates/universe amd64 libavresample3 amd64 7:3.4.8-0ubuntu0.2 [52.6 kB]\n",
      "Get:47 http://archive.ubuntu.com/ubuntu bionic/universe amd64 libbs2b0 amd64 3.1.0+dfsg-2.2 [10.5 kB]\n",
      "Get:48 http://archive.ubuntu.com/ubuntu bionic/universe amd64 libflite1 amd64 2.1-release-1 [12.8 MB]\n",
      "Get:49 http://archive.ubuntu.com/ubuntu bionic-updates/universe amd64 libmysofa0 amd64 0.6~dfsg0-2ubuntu0.18.04.1 [38.1 kB]\n",
      "Get:50 http://archive.ubuntu.com/ubuntu bionic-updates/universe amd64 libpostproc54 amd64 7:3.4.8-0ubuntu0.2 [50.3 kB]\n",
      "Get:51 http://archive.ubuntu.com/ubuntu bionic/main amd64 libfftw3-double3 amd64 3.3.7-1 [735 kB]\n",
      "Get:52 http://archive.ubuntu.com/ubuntu bionic/main amd64 libsamplerate0 amd64 0.1.9-1 [938 kB]\n",
      "Get:53 http://archive.ubuntu.com/ubuntu bionic/universe amd64 librubberband2 amd64 1.8.1-7ubuntu2 [86.7 kB]\n",
      "Get:54 http://archive.ubuntu.com/ubuntu bionic-updates/universe amd64 libswscale4 amd64 7:3.4.8-0ubuntu0.2 [150 kB]\n",
      "Get:55 http://archive.ubuntu.com/ubuntu bionic-updates/universe amd64 libavfilter6 amd64 7:3.4.8-0ubuntu0.2 [874 kB]\n",
      "Get:56 http://archive.ubuntu.com/ubuntu bionic-updates/main amd64 libcaca0 amd64 0.99.beta19-2ubuntu0.18.04.1 [203 kB]\n",
      "Get:57 http://archive.ubuntu.com/ubuntu bionic/main amd64 libcdio17 amd64 1.0.0-2ubuntu2 [58.8 kB]\n",
      "Get:58 http://archive.ubuntu.com/ubuntu bionic/main amd64 libcdio-cdda2 amd64 10.2+0.94+2-2build1 [17.7 kB]\n",
      "Get:59 http://archive.ubuntu.com/ubuntu bionic/main amd64 libcdio-paranoia2 amd64 10.2+0.94+2-2build1 [17.2 kB]\n",
      "Get:60 http://archive.ubuntu.com/ubuntu bionic/universe amd64 libdc1394-22 amd64 2.2.5-1 [77.5 kB]\n",
      "Get:61 http://archive.ubuntu.com/ubuntu bionic/main amd64 libiec61883-0 amd64 1.2.0-2 [23.5 kB]\n",
      "Get:62 http://archive.ubuntu.com/ubuntu bionic/main amd64 libjack-jackd2-0 amd64 1.9.12~dfsg-2 [263 kB]\n",
      "Get:63 http://archive.ubuntu.com/ubuntu bionic/universe amd64 libopenal-data all 1:1.18.2-2 [102 kB]\n",
      "Get:64 http://archive.ubuntu.com/ubuntu bionic/universe amd64 libsndio6.1 amd64 1.1.0-3 [23.4 kB]\n",
      "Get:65 http://archive.ubuntu.com/ubuntu bionic/universe amd64 libopenal1 amd64 1:1.18.2-2 [266 kB]\n",
      "Get:66 http://archive.ubuntu.com/ubuntu bionic-updates/main amd64 libwayland-client0 amd64 1.16.0-1ubuntu1.1~18.04.3 [23.6 kB]\n",
      "Get:67 http://archive.ubuntu.com/ubuntu bionic-updates/main amd64 libwayland-cursor0 amd64 1.16.0-1ubuntu1.1~18.04.3 [10.1 kB]\n",
      "Get:68 http://archive.ubuntu.com/ubuntu bionic-updates/main amd64 libwayland-server0 amd64 1.16.0-1ubuntu1.1~18.04.3 [29.6 kB]\n",
      "Get:69 http://archive.ubuntu.com/ubuntu bionic-updates/main amd64 libgbm1 amd64 20.0.8-0ubuntu1~18.04.1 [27.6 kB]\n",
      "Get:70 http://archive.ubuntu.com/ubuntu bionic-updates/main amd64 libxcb-xfixes0 amd64 1.13-2~ubuntu18.04 [9352 B]\n",
      "Get:71 http://archive.ubuntu.com/ubuntu bionic-updates/main amd64 libegl-mesa0 amd64 20.0.8-0ubuntu1~18.04.1 [96.3 kB]\n",
      "Get:72 http://archive.ubuntu.com/ubuntu bionic-updates/main amd64 libegl1 amd64 1.0.0-2ubuntu2.3 [32.0 kB]\n",
      "Get:73 http://archive.ubuntu.com/ubuntu bionic-updates/main amd64 libwayland-egl1 amd64 1.16.0-1ubuntu1.1~18.04.3 [5464 B]\n",
      "Get:74 http://archive.ubuntu.com/ubuntu bionic-updates/main amd64 libwayland-egl1-mesa amd64 20.0.8-0ubuntu1~18.04.1 [6444 B]\n",
      "Get:75 http://archive.ubuntu.com/ubuntu bionic-updates/main amd64 libxkbcommon0 amd64 0.8.2-1~ubuntu18.04.1 [97.8 kB]\n",
      "Get:76 http://archive.ubuntu.com/ubuntu bionic-updates/universe amd64 libsdl2-2.0-0 amd64 2.0.8+dfsg1-1ubuntu1.18.04.4 [382 kB]\n",
      "Get:77 http://archive.ubuntu.com/ubuntu bionic-updates/universe amd64 libavdevice57 amd64 7:3.4.8-0ubuntu0.2 [74.9 kB]\n",
      "Get:78 http://archive.ubuntu.com/ubuntu bionic-updates/universe amd64 ffmpeg amd64 7:3.4.8-0ubuntu0.2 [1587 kB]\n",
      "Get:79 http://archive.ubuntu.com/ubuntu bionic/universe amd64 freeglut3 amd64 2.8.1-3 [73.6 kB]\n",
      "Get:80 http://archive.ubuntu.com/ubuntu bionic/universe amd64 libaacs0 amd64 0.9.0-1 [51.4 kB]\n",
      "Get:81 http://archive.ubuntu.com/ubuntu bionic/universe amd64 libbdplus0 amd64 0.1.2-2 [46.6 kB]\n",
      "Get:82 http://archive.ubuntu.com/ubuntu bionic/main amd64 libxfont2 amd64 1:2.0.3-1 [91.7 kB]\n",
      "Get:83 http://archive.ubuntu.com/ubuntu bionic/main amd64 libxkbfile1 amd64 1:1.0.9-2 [64.6 kB]\n",
      "Get:84 http://archive.ubuntu.com/ubuntu bionic-updates/universe amd64 mesa-va-drivers amd64 20.0.8-0ubuntu1~18.04.1 [2376 kB]\n",
      "Get:85 http://archive.ubuntu.com/ubuntu bionic-updates/main amd64 mesa-vdpau-drivers amd64 20.0.8-0ubuntu1~18.04.1 [2496 kB]\n",
      "Get:86 http://archive.ubuntu.com/ubuntu bionic/main amd64 libglu1-mesa amd64 9.0.0-2.1build1 [168 kB]\n",
      "Get:87 http://archive.ubuntu.com/ubuntu bionic/universe amd64 python3-opengl all 3.1.0+dfsg-1 [497 kB]\n",
      "Get:88 http://archive.ubuntu.com/ubuntu bionic/universe amd64 i965-va-driver amd64 2.1.0-0ubuntu1 [925 kB]\n",
      "Get:89 http://archive.ubuntu.com/ubuntu bionic/universe amd64 va-driver-all amd64 2.1.0-3 [4376 B]\n",
      "Get:90 http://archive.ubuntu.com/ubuntu bionic/main amd64 vdpau-driver-all amd64 1.1.1-3ubuntu1 [4674 B]\n",
      "Get:91 http://archive.ubuntu.com/ubuntu bionic-updates/main amd64 x11-xkb-utils amd64 7.7+3ubuntu0.18.04.1 [160 kB]\n",
      "Get:92 http://archive.ubuntu.com/ubuntu bionic/main amd64 xfonts-encodings all 1:1.0.4-2 [573 kB]\n",
      "Get:93 http://archive.ubuntu.com/ubuntu bionic/main amd64 xfonts-utils amd64 1:7.7+6 [91.5 kB]\n",
      "Get:94 http://archive.ubuntu.com/ubuntu bionic/main amd64 xfonts-base all 1:1.0.4+nmu1 [5914 kB]\n",
      "Get:95 http://archive.ubuntu.com/ubuntu bionic-updates/main amd64 xserver-common all 2:1.19.6-1ubuntu4.4 [27.3 kB]\n",
      "Get:96 http://archive.ubuntu.com/ubuntu bionic-updates/universe amd64 xvfb amd64 2:1.19.6-1ubuntu4.4 [784 kB]\n",
      "Fetched 45.7 MB in 9s (5290 kB/s)                                              \n",
      "debconf: delaying package configuration, since apt-utils is not installed\n",
      "Selecting previously unselected package libxss1:amd64.\n",
      "(Reading database ... 44031 files and directories currently installed.)\n",
      "Preparing to unpack .../00-libxss1_1%3a1.2.2-1_amd64.deb ...\n",
      "Unpacking libxss1:amd64 (1:1.2.2-1) ...\n",
      "Selecting previously unselected package libfribidi0:amd64.\n",
      "Preparing to unpack .../01-libfribidi0_0.19.7-2_amd64.deb ...\n",
      "Unpacking libfribidi0:amd64 (0.19.7-2) ...\n",
      "Selecting previously unselected package libslang2:amd64.\n",
      "Preparing to unpack .../02-libslang2_2.3.1a-3ubuntu1_amd64.deb ...\n",
      "Unpacking libslang2:amd64 (2.3.1a-3ubuntu1) ...\n",
      "Selecting previously unselected package xkb-data.\n",
      "Preparing to unpack .../03-xkb-data_2.23.1-1ubuntu1.18.04.1_all.deb ...\n",
      "Unpacking xkb-data (2.23.1-1ubuntu1.18.04.1) ...\n",
      "Selecting previously unselected package libnuma1:amd64.\n",
      "Preparing to unpack .../04-libnuma1_2.0.11-2.1ubuntu0.1_amd64.deb ...\n",
      "Unpacking libnuma1:amd64 (2.0.11-2.1ubuntu0.1) ...\n",
      "Selecting previously unselected package libusb-1.0-0:amd64.\n",
      "Preparing to unpack .../05-libusb-1.0-0_2%3a1.0.21-2_amd64.deb ...\n",
      "Unpacking libusb-1.0-0:amd64 (2:1.0.21-2) ...\n",
      "Selecting previously unselected package xauth.\n",
      "Preparing to unpack .../06-xauth_1%3a1.0.10-1_amd64.deb ...\n",
      "Unpacking xauth (1:1.0.10-1) ...\n",
      "Selecting previously unselected package libva2:amd64.\n",
      "Preparing to unpack .../07-libva2_2.1.0-3_amd64.deb ...\n",
      "Unpacking libva2:amd64 (2.1.0-3) ...\n",
      "Selecting previously unselected package libva-drm2:amd64.\n",
      "Preparing to unpack .../08-libva-drm2_2.1.0-3_amd64.deb ...\n",
      "Unpacking libva-drm2:amd64 (2.1.0-3) ...\n",
      "Selecting previously unselected package libva-x11-2:amd64.\n",
      "Preparing to unpack .../09-libva-x11-2_2.1.0-3_amd64.deb ...\n",
      "Unpacking libva-x11-2:amd64 (2.1.0-3) ...\n",
      "Selecting previously unselected package libvdpau1:amd64.\n",
      "Preparing to unpack .../10-libvdpau1_1.1.1-3ubuntu1_amd64.deb ...\n",
      "Unpacking libvdpau1:amd64 (1.1.1-3ubuntu1) ...\n",
      "Selecting previously unselected package libavutil55:amd64.\n",
      "Preparing to unpack .../11-libavutil55_7%3a3.4.8-0ubuntu0.2_amd64.deb ...\n",
      "Unpacking libavutil55:amd64 (7:3.4.8-0ubuntu0.2) ...\n",
      "Selecting previously unselected package libcrystalhd3:amd64.\n",
      "Preparing to unpack .../12-libcrystalhd3_1%3a0.0~git20110715.fdd2f19-12_amd64.deb ...\n",
      "Unpacking libcrystalhd3:amd64 (1:0.0~git20110715.fdd2f19-12) ...\n"
     ]
    },
    {
     "name": "stdout",
     "output_type": "stream",
     "text": [
      "Selecting previously unselected package libgsm1:amd64.\n",
      "Preparing to unpack .../13-libgsm1_1.0.13-4build1_amd64.deb ...\n",
      "Unpacking libgsm1:amd64 (1.0.13-4build1) ...\n",
      "Selecting previously unselected package libmp3lame0:amd64.\n",
      "Preparing to unpack .../14-libmp3lame0_3.100-2_amd64.deb ...\n",
      "Unpacking libmp3lame0:amd64 (3.100-2) ...\n",
      "Selecting previously unselected package libopenjp2-7:amd64.\n",
      "Preparing to unpack .../15-libopenjp2-7_2.3.0-2build0.18.04.1_amd64.deb ...\n",
      "Unpacking libopenjp2-7:amd64 (2.3.0-2build0.18.04.1) ...\n",
      "Selecting previously unselected package libopus0:amd64.\n",
      "Preparing to unpack .../16-libopus0_1.1.2-1ubuntu1_amd64.deb ...\n",
      "Unpacking libopus0:amd64 (1.1.2-1ubuntu1) ...\n",
      "Selecting previously unselected package libshine3:amd64.\n",
      "Preparing to unpack .../17-libshine3_3.1.1-1_amd64.deb ...\n",
      "Unpacking libshine3:amd64 (3.1.1-1) ...\n",
      "Selecting previously unselected package libsnappy1v5:amd64.\n",
      "Preparing to unpack .../18-libsnappy1v5_1.1.7-1_amd64.deb ...\n",
      "Unpacking libsnappy1v5:amd64 (1.1.7-1) ...\n",
      "Selecting previously unselected package libspeex1:amd64.\n",
      "Preparing to unpack .../19-libspeex1_1.2~rc1.2-1ubuntu2_amd64.deb ...\n",
      "Unpacking libspeex1:amd64 (1.2~rc1.2-1ubuntu2) ...\n",
      "Selecting previously unselected package libsoxr0:amd64.\n",
      "Preparing to unpack .../20-libsoxr0_0.1.2-3_amd64.deb ...\n",
      "Unpacking libsoxr0:amd64 (0.1.2-3) ...\n",
      "Selecting previously unselected package libswresample2:amd64.\n",
      "Preparing to unpack .../21-libswresample2_7%3a3.4.8-0ubuntu0.2_amd64.deb ...\n",
      "Unpacking libswresample2:amd64 (7:3.4.8-0ubuntu0.2) ...\n",
      "Selecting previously unselected package libtheora0:amd64.\n",
      "Preparing to unpack .../22-libtheora0_1.1.1+dfsg.1-14_amd64.deb ...\n",
      "Unpacking libtheora0:amd64 (1.1.1+dfsg.1-14) ...\n",
      "Selecting previously unselected package libtwolame0:amd64.\n",
      "Preparing to unpack .../23-libtwolame0_0.3.13-3_amd64.deb ...\n",
      "Unpacking libtwolame0:amd64 (0.3.13-3) ...\n",
      "Selecting previously unselected package libvpx5:amd64.\n",
      "Preparing to unpack .../24-libvpx5_1.7.0-3ubuntu0.18.04.1_amd64.deb ...\n",
      "Unpacking libvpx5:amd64 (1.7.0-3ubuntu0.18.04.1) ...\n",
      "Selecting previously unselected package libwavpack1:amd64.\n",
      "Preparing to unpack .../25-libwavpack1_5.1.0-2ubuntu1.4_amd64.deb ...\n",
      "Unpacking libwavpack1:amd64 (5.1.0-2ubuntu1.4) ...\n",
      "Selecting previously unselected package libwebp6:amd64.\n",
      "Preparing to unpack .../26-libwebp6_0.6.1-2_amd64.deb ...\n",
      "Unpacking libwebp6:amd64 (0.6.1-2) ...\n",
      "Selecting previously unselected package libwebpmux3:amd64.\n",
      "Preparing to unpack .../27-libwebpmux3_0.6.1-2_amd64.deb ...\n",
      "Unpacking libwebpmux3:amd64 (0.6.1-2) ...\n",
      "Selecting previously unselected package libx264-152:amd64.\n",
      "Preparing to unpack .../28-libx264-152_2%3a0.152.2854+gite9a5903-2_amd64.deb ...\n",
      "Unpacking libx264-152:amd64 (2:0.152.2854+gite9a5903-2) ...\n",
      "Selecting previously unselected package libx265-146:amd64.\n",
      "Preparing to unpack .../29-libx265-146_2.6-3_amd64.deb ...\n",
      "Unpacking libx265-146:amd64 (2.6-3) ...\n",
      "Selecting previously unselected package libxvidcore4:amd64.\n",
      "Preparing to unpack .../30-libxvidcore4_2%3a1.3.5-1_amd64.deb ...\n",
      "Unpacking libxvidcore4:amd64 (2:1.3.5-1) ...\n",
      "Selecting previously unselected package libzvbi-common.\n",
      "Preparing to unpack .../31-libzvbi-common_0.2.35-13_all.deb ...\n",
      "Unpacking libzvbi-common (0.2.35-13) ...\n",
      "Selecting previously unselected package libzvbi0:amd64.\n",
      "Preparing to unpack .../32-libzvbi0_0.2.35-13_amd64.deb ...\n",
      "Unpacking libzvbi0:amd64 (0.2.35-13) ...\n",
      "Selecting previously unselected package libavcodec57:amd64.\n",
      "Preparing to unpack .../33-libavcodec57_7%3a3.4.8-0ubuntu0.2_amd64.deb ...\n",
      "Unpacking libavcodec57:amd64 (7:3.4.8-0ubuntu0.2) ...\n",
      "Selecting previously unselected package libraw1394-11:amd64.\n",
      "Preparing to unpack .../34-libraw1394-11_2.1.2-1_amd64.deb ...\n",
      "Unpacking libraw1394-11:amd64 (2.1.2-1) ...\n",
      "Selecting previously unselected package libavc1394-0:amd64.\n",
      "Preparing to unpack .../35-libavc1394-0_0.5.4-4build1_amd64.deb ...\n",
      "Unpacking libavc1394-0:amd64 (0.5.4-4build1) ...\n",
      "Selecting previously unselected package libass9:amd64.\n",
      "Preparing to unpack .../36-libass9_1%3a0.14.0-1_amd64.deb ...\n",
      "Unpacking libass9:amd64 (1:0.14.0-1) ...\n",
      "Selecting previously unselected package libbluray2:amd64.\n",
      "Preparing to unpack .../37-libbluray2_1%3a1.0.2-3_amd64.deb ...\n",
      "Unpacking libbluray2:amd64 (1:1.0.2-3) ...\n",
      "Selecting previously unselected package libchromaprint1:amd64.\n",
      "Preparing to unpack .../38-libchromaprint1_1.4.3-1_amd64.deb ...\n",
      "Unpacking libchromaprint1:amd64 (1.4.3-1) ...\n",
      "Selecting previously unselected package libgme0:amd64.\n",
      "Preparing to unpack .../39-libgme0_0.6.2-1_amd64.deb ...\n",
      "Unpacking libgme0:amd64 (0.6.2-1) ...\n",
      "Selecting previously unselected package libmpg123-0:amd64.\n",
      "Preparing to unpack .../40-libmpg123-0_1.25.10-1_amd64.deb ...\n",
      "Unpacking libmpg123-0:amd64 (1.25.10-1) ...\n",
      "Selecting previously unselected package libvorbisfile3:amd64.\n",
      "Preparing to unpack .../41-libvorbisfile3_1.3.5-4.2_amd64.deb ...\n",
      "Unpacking libvorbisfile3:amd64 (1.3.5-4.2) ...\n",
      "Selecting previously unselected package libopenmpt0:amd64.\n",
      "Preparing to unpack .../42-libopenmpt0_0.3.6-1_amd64.deb ...\n",
      "Unpacking libopenmpt0:amd64 (0.3.6-1) ...\n",
      "Selecting previously unselected package libssh-gcrypt-4:amd64.\n",
      "Preparing to unpack .../43-libssh-gcrypt-4_0.8.0~20170825.94fa1e38-1ubuntu0.7_amd64.deb ...\n",
      "Unpacking libssh-gcrypt-4:amd64 (0.8.0~20170825.94fa1e38-1ubuntu0.7) ...\n",
      "Selecting previously unselected package libavformat57:amd64.\n",
      "Preparing to unpack .../44-libavformat57_7%3a3.4.8-0ubuntu0.2_amd64.deb ...\n",
      "Unpacking libavformat57:amd64 (7:3.4.8-0ubuntu0.2) ...\n",
      "Selecting previously unselected package libavresample3:amd64.\n",
      "Preparing to unpack .../45-libavresample3_7%3a3.4.8-0ubuntu0.2_amd64.deb ...\n",
      "Unpacking libavresample3:amd64 (7:3.4.8-0ubuntu0.2) ...\n",
      "Selecting previously unselected package libbs2b0:amd64.\n",
      "Preparing to unpack .../46-libbs2b0_3.1.0+dfsg-2.2_amd64.deb ...\n",
      "Unpacking libbs2b0:amd64 (3.1.0+dfsg-2.2) ...\n",
      "Selecting previously unselected package libflite1:amd64.\n",
      "Preparing to unpack .../47-libflite1_2.1-release-1_amd64.deb ...\n",
      "Unpacking libflite1:amd64 (2.1-release-1) ...\n",
      "Selecting previously unselected package libmysofa0:amd64.\n",
      "Preparing to unpack .../48-libmysofa0_0.6~dfsg0-2ubuntu0.18.04.1_amd64.deb ...\n",
      "Unpacking libmysofa0:amd64 (0.6~dfsg0-2ubuntu0.18.04.1) ...\n",
      "Selecting previously unselected package libpostproc54:amd64.\n",
      "Preparing to unpack .../49-libpostproc54_7%3a3.4.8-0ubuntu0.2_amd64.deb ...\n",
      "Unpacking libpostproc54:amd64 (7:3.4.8-0ubuntu0.2) ...\n",
      "Selecting previously unselected package libfftw3-double3:amd64.\n",
      "Preparing to unpack .../50-libfftw3-double3_3.3.7-1_amd64.deb ...\n",
      "Unpacking libfftw3-double3:amd64 (3.3.7-1) ...\n",
      "Selecting previously unselected package libsamplerate0:amd64.\n",
      "Preparing to unpack .../51-libsamplerate0_0.1.9-1_amd64.deb ...\n",
      "Unpacking libsamplerate0:amd64 (0.1.9-1) ...\n",
      "Selecting previously unselected package librubberband2:amd64.\n",
      "Preparing to unpack .../52-librubberband2_1.8.1-7ubuntu2_amd64.deb ...\n",
      "Unpacking librubberband2:amd64 (1.8.1-7ubuntu2) ...\n",
      "Selecting previously unselected package libswscale4:amd64.\n",
      "Preparing to unpack .../53-libswscale4_7%3a3.4.8-0ubuntu0.2_amd64.deb ...\n",
      "Unpacking libswscale4:amd64 (7:3.4.8-0ubuntu0.2) ...\n",
      "Selecting previously unselected package libavfilter6:amd64.\n",
      "Preparing to unpack .../54-libavfilter6_7%3a3.4.8-0ubuntu0.2_amd64.deb ...\n",
      "Unpacking libavfilter6:amd64 (7:3.4.8-0ubuntu0.2) ...\n",
      "Selecting previously unselected package libcaca0:amd64.\n",
      "Preparing to unpack .../55-libcaca0_0.99.beta19-2ubuntu0.18.04.1_amd64.deb ...\n",
      "Unpacking libcaca0:amd64 (0.99.beta19-2ubuntu0.18.04.1) ...\n",
      "Selecting previously unselected package libcdio17:amd64.\n",
      "Preparing to unpack .../56-libcdio17_1.0.0-2ubuntu2_amd64.deb ...\n",
      "Unpacking libcdio17:amd64 (1.0.0-2ubuntu2) ...\n",
      "Selecting previously unselected package libcdio-cdda2:amd64.\n",
      "Preparing to unpack .../57-libcdio-cdda2_10.2+0.94+2-2build1_amd64.deb ...\n",
      "Unpacking libcdio-cdda2:amd64 (10.2+0.94+2-2build1) ...\n",
      "Selecting previously unselected package libcdio-paranoia2:amd64.\n",
      "Preparing to unpack .../58-libcdio-paranoia2_10.2+0.94+2-2build1_amd64.deb ...\n",
      "Unpacking libcdio-paranoia2:amd64 (10.2+0.94+2-2build1) ...\n",
      "Selecting previously unselected package libdc1394-22:amd64.\n",
      "Preparing to unpack .../59-libdc1394-22_2.2.5-1_amd64.deb ...\n",
      "Unpacking libdc1394-22:amd64 (2.2.5-1) ...\n"
     ]
    },
    {
     "name": "stdout",
     "output_type": "stream",
     "text": [
      "Selecting previously unselected package libiec61883-0:amd64.\n",
      "Preparing to unpack .../60-libiec61883-0_1.2.0-2_amd64.deb ...\n",
      "Unpacking libiec61883-0:amd64 (1.2.0-2) ...\n",
      "Selecting previously unselected package libjack-jackd2-0:amd64.\n",
      "Preparing to unpack .../61-libjack-jackd2-0_1.9.12~dfsg-2_amd64.deb ...\n",
      "Unpacking libjack-jackd2-0:amd64 (1.9.12~dfsg-2) ...\n",
      "Selecting previously unselected package libopenal-data.\n",
      "Preparing to unpack .../62-libopenal-data_1%3a1.18.2-2_all.deb ...\n",
      "Unpacking libopenal-data (1:1.18.2-2) ...\n",
      "Selecting previously unselected package libsndio6.1:amd64.\n",
      "Preparing to unpack .../63-libsndio6.1_1.1.0-3_amd64.deb ...\n",
      "Unpacking libsndio6.1:amd64 (1.1.0-3) ...\n",
      "Selecting previously unselected package libopenal1:amd64.\n",
      "Preparing to unpack .../64-libopenal1_1%3a1.18.2-2_amd64.deb ...\n",
      "Unpacking libopenal1:amd64 (1:1.18.2-2) ...\n",
      "Selecting previously unselected package libwayland-client0:amd64.\n",
      "Preparing to unpack .../65-libwayland-client0_1.16.0-1ubuntu1.1~18.04.3_amd64.deb ...\n",
      "Unpacking libwayland-client0:amd64 (1.16.0-1ubuntu1.1~18.04.3) ...\n",
      "Selecting previously unselected package libwayland-cursor0:amd64.\n",
      "Preparing to unpack .../66-libwayland-cursor0_1.16.0-1ubuntu1.1~18.04.3_amd64.deb ...\n",
      "Unpacking libwayland-cursor0:amd64 (1.16.0-1ubuntu1.1~18.04.3) ...\n",
      "Selecting previously unselected package libwayland-server0:amd64.\n",
      "Preparing to unpack .../67-libwayland-server0_1.16.0-1ubuntu1.1~18.04.3_amd64.deb ...\n",
      "Unpacking libwayland-server0:amd64 (1.16.0-1ubuntu1.1~18.04.3) ...\n",
      "Selecting previously unselected package libgbm1:amd64.\n",
      "Preparing to unpack .../68-libgbm1_20.0.8-0ubuntu1~18.04.1_amd64.deb ...\n",
      "Unpacking libgbm1:amd64 (20.0.8-0ubuntu1~18.04.1) ...\n",
      "Selecting previously unselected package libxcb-xfixes0:amd64.\n",
      "Preparing to unpack .../69-libxcb-xfixes0_1.13-2~ubuntu18.04_amd64.deb ...\n",
      "Unpacking libxcb-xfixes0:amd64 (1.13-2~ubuntu18.04) ...\n",
      "Selecting previously unselected package libegl-mesa0:amd64.\n",
      "Preparing to unpack .../70-libegl-mesa0_20.0.8-0ubuntu1~18.04.1_amd64.deb ...\n",
      "Unpacking libegl-mesa0:amd64 (20.0.8-0ubuntu1~18.04.1) ...\n",
      "Selecting previously unselected package libegl1:amd64.\n",
      "Preparing to unpack .../71-libegl1_1.0.0-2ubuntu2.3_amd64.deb ...\n",
      "Unpacking libegl1:amd64 (1.0.0-2ubuntu2.3) ...\n",
      "Selecting previously unselected package libwayland-egl1:amd64.\n",
      "Preparing to unpack .../72-libwayland-egl1_1.16.0-1ubuntu1.1~18.04.3_amd64.deb ...\n",
      "Unpacking libwayland-egl1:amd64 (1.16.0-1ubuntu1.1~18.04.3) ...\n",
      "Selecting previously unselected package libwayland-egl1-mesa:amd64.\n",
      "Preparing to unpack .../73-libwayland-egl1-mesa_20.0.8-0ubuntu1~18.04.1_amd64.deb ...\n",
      "Unpacking libwayland-egl1-mesa:amd64 (20.0.8-0ubuntu1~18.04.1) ...\n",
      "Selecting previously unselected package libxkbcommon0:amd64.\n",
      "Preparing to unpack .../74-libxkbcommon0_0.8.2-1~ubuntu18.04.1_amd64.deb ...\n",
      "Unpacking libxkbcommon0:amd64 (0.8.2-1~ubuntu18.04.1) ...\n",
      "Selecting previously unselected package libsdl2-2.0-0:amd64.\n",
      "Preparing to unpack .../75-libsdl2-2.0-0_2.0.8+dfsg1-1ubuntu1.18.04.4_amd64.deb ...\n",
      "Unpacking libsdl2-2.0-0:amd64 (2.0.8+dfsg1-1ubuntu1.18.04.4) ...\n",
      "Selecting previously unselected package libavdevice57:amd64.\n",
      "Preparing to unpack .../76-libavdevice57_7%3a3.4.8-0ubuntu0.2_amd64.deb ...\n",
      "Unpacking libavdevice57:amd64 (7:3.4.8-0ubuntu0.2) ...\n",
      "Selecting previously unselected package ffmpeg.\n",
      "Preparing to unpack .../77-ffmpeg_7%3a3.4.8-0ubuntu0.2_amd64.deb ...\n",
      "Unpacking ffmpeg (7:3.4.8-0ubuntu0.2) ...\n",
      "Selecting previously unselected package freeglut3:amd64.\n",
      "Preparing to unpack .../78-freeglut3_2.8.1-3_amd64.deb ...\n",
      "Unpacking freeglut3:amd64 (2.8.1-3) ...\n",
      "Selecting previously unselected package libaacs0:amd64.\n",
      "Preparing to unpack .../79-libaacs0_0.9.0-1_amd64.deb ...\n",
      "Unpacking libaacs0:amd64 (0.9.0-1) ...\n",
      "Selecting previously unselected package libbdplus0:amd64.\n",
      "Preparing to unpack .../80-libbdplus0_0.1.2-2_amd64.deb ...\n",
      "Unpacking libbdplus0:amd64 (0.1.2-2) ...\n",
      "Selecting previously unselected package libxfont2:amd64.\n",
      "Preparing to unpack .../81-libxfont2_1%3a2.0.3-1_amd64.deb ...\n",
      "Unpacking libxfont2:amd64 (1:2.0.3-1) ...\n",
      "Selecting previously unselected package libxkbfile1:amd64.\n",
      "Preparing to unpack .../82-libxkbfile1_1%3a1.0.9-2_amd64.deb ...\n",
      "Unpacking libxkbfile1:amd64 (1:1.0.9-2) ...\n",
      "Selecting previously unselected package mesa-va-drivers:amd64.\n",
      "Preparing to unpack .../83-mesa-va-drivers_20.0.8-0ubuntu1~18.04.1_amd64.deb ...\n",
      "Unpacking mesa-va-drivers:amd64 (20.0.8-0ubuntu1~18.04.1) ...\n",
      "Selecting previously unselected package mesa-vdpau-drivers:amd64.\n",
      "Preparing to unpack .../84-mesa-vdpau-drivers_20.0.8-0ubuntu1~18.04.1_amd64.deb ...\n",
      "Unpacking mesa-vdpau-drivers:amd64 (20.0.8-0ubuntu1~18.04.1) ...\n",
      "Selecting previously unselected package libglu1-mesa:amd64.\n",
      "Preparing to unpack .../85-libglu1-mesa_9.0.0-2.1build1_amd64.deb ...\n",
      "Unpacking libglu1-mesa:amd64 (9.0.0-2.1build1) ...\n",
      "Selecting previously unselected package python3-opengl.\n",
      "Preparing to unpack .../86-python3-opengl_3.1.0+dfsg-1_all.deb ...\n",
      "Unpacking python3-opengl (3.1.0+dfsg-1) ...\n",
      "Selecting previously unselected package i965-va-driver:amd64.\n",
      "Preparing to unpack .../87-i965-va-driver_2.1.0-0ubuntu1_amd64.deb ...\n",
      "Unpacking i965-va-driver:amd64 (2.1.0-0ubuntu1) ...\n",
      "Selecting previously unselected package va-driver-all:amd64.\n",
      "Preparing to unpack .../88-va-driver-all_2.1.0-3_amd64.deb ...\n",
      "Unpacking va-driver-all:amd64 (2.1.0-3) ...\n",
      "Selecting previously unselected package vdpau-driver-all:amd64.\n",
      "Preparing to unpack .../89-vdpau-driver-all_1.1.1-3ubuntu1_amd64.deb ...\n",
      "Unpacking vdpau-driver-all:amd64 (1.1.1-3ubuntu1) ...\n",
      "Selecting previously unselected package x11-xkb-utils.\n",
      "Preparing to unpack .../90-x11-xkb-utils_7.7+3ubuntu0.18.04.1_amd64.deb ...\n",
      "Unpacking x11-xkb-utils (7.7+3ubuntu0.18.04.1) ...\n",
      "Selecting previously unselected package xfonts-encodings.\n",
      "Preparing to unpack .../91-xfonts-encodings_1%3a1.0.4-2_all.deb ...\n",
      "Unpacking xfonts-encodings (1:1.0.4-2) ...\n",
      "Selecting previously unselected package xfonts-utils.\n",
      "Preparing to unpack .../92-xfonts-utils_1%3a7.7+6_amd64.deb ...\n",
      "Unpacking xfonts-utils (1:7.7+6) ...\n",
      "Selecting previously unselected package xfonts-base.\n",
      "Preparing to unpack .../93-xfonts-base_1%3a1.0.4+nmu1_all.deb ...\n",
      "Unpacking xfonts-base (1:1.0.4+nmu1) ...\n",
      "Selecting previously unselected package xserver-common.\n",
      "Preparing to unpack .../94-xserver-common_2%3a1.19.6-1ubuntu4.4_all.deb ...\n",
      "Unpacking xserver-common (2:1.19.6-1ubuntu4.4) ...\n",
      "Selecting previously unselected package xvfb.\n",
      "Preparing to unpack .../95-xvfb_2%3a1.19.6-1ubuntu4.4_amd64.deb ...\n",
      "Unpacking xvfb (2:1.19.6-1ubuntu4.4) ...\n",
      "Setting up libvorbisfile3:amd64 (1.3.5-4.2) ...\n",
      "Setting up libxkbfile1:amd64 (1:1.0.9-2) ...\n",
      "Setting up freeglut3:amd64 (2.8.1-3) ...\n",
      "Setting up libtwolame0:amd64 (0.3.13-3) ...\n",
      "Setting up libraw1394-11:amd64 (2.1.2-1) ...\n",
      "Setting up libx264-152:amd64 (2:0.152.2854+gite9a5903-2) ...\n",
      "Setting up libxcb-xfixes0:amd64 (1.13-2~ubuntu18.04) ...\n",
      "Setting up libopenjp2-7:amd64 (2.3.0-2build0.18.04.1) ...\n",
      "Setting up x11-xkb-utils (7.7+3ubuntu0.18.04.1) ...\n",
      "Setting up libwavpack1:amd64 (5.1.0-2ubuntu1.4) ...\n",
      "Setting up libaacs0:amd64 (0.9.0-1) ...\n",
      "Setting up libnuma1:amd64 (2.0.11-2.1ubuntu0.1) ...\n",
      "Setting up libflite1:amd64 (2.1-release-1) ...\n",
      "Setting up libsoxr0:amd64 (0.1.2-3) ...\n",
      "Setting up libssh-gcrypt-4:amd64 (0.8.0~20170825.94fa1e38-1ubuntu0.7) ...\n",
      "Setting up libxss1:amd64 (1:1.2.2-1) ...\n",
      "Setting up libwayland-client0:amd64 (1.16.0-1ubuntu1.1~18.04.3) ...\n",
      "Setting up xkb-data (2.23.1-1ubuntu1.18.04.1) ...\n",
      "Setting up libbluray2:amd64 (1:1.0.2-3) ...\n",
      "Setting up libvdpau1:amd64 (1.1.1-3ubuntu1) ...\n",
      "Setting up libxfont2:amd64 (1:2.0.3-1) ...\n",
      "Setting up libshine3:amd64 (3.1.1-1) ...\n",
      "Setting up libva2:amd64 (2.1.0-3) ...\n",
      "Setting up libiec61883-0:amd64 (1.2.0-2) ...\n",
      "Setting up libspeex1:amd64 (1.2~rc1.2-1ubuntu2) ...\n",
      "Setting up libfftw3-double3:amd64 (3.3.7-1) ...\n",
      "Setting up libxvidcore4:amd64 (2:1.3.5-1) ...\n",
      "Setting up xfonts-encodings (1:1.0.4-2) ...\n",
      "Setting up libopus0:amd64 (1.1.2-1ubuntu1) ...\n",
      "Setting up libx265-146:amd64 (2.6-3) ...\n",
      "Setting up libopenal-data (1:1.18.2-2) ...\n",
      "Setting up libbs2b0:amd64 (3.1.0+dfsg-2.2) ...\n",
      "Setting up xauth (1:1.0.10-1) ...\n",
      "Setting up i965-va-driver:amd64 (2.1.0-0ubuntu1) ...\n",
      "Setting up libmp3lame0:amd64 (3.100-2) ...\n",
      "Setting up libusb-1.0-0:amd64 (2:1.0.21-2) ...\n",
      "Setting up libcrystalhd3:amd64 (1:0.0~git20110715.fdd2f19-12) ...\n",
      "Setting up libsnappy1v5:amd64 (1.1.7-1) ...\n",
      "Setting up mesa-va-drivers:amd64 (20.0.8-0ubuntu1~18.04.1) ...\n",
      "Setting up libva-drm2:amd64 (2.1.0-3) ...\n",
      "Setting up libavc1394-0:amd64 (0.5.4-4build1) ...\n",
      "Setting up libzvbi-common (0.2.35-13) ...\n"
     ]
    },
    {
     "name": "stdout",
     "output_type": "stream",
     "text": [
      "Setting up libfribidi0:amd64 (0.19.7-2) ...\n",
      "Setting up libxkbcommon0:amd64 (0.8.2-1~ubuntu18.04.1) ...\n",
      "Setting up libglu1-mesa:amd64 (9.0.0-2.1build1) ...\n",
      "Setting up libvpx5:amd64 (1.7.0-3ubuntu0.18.04.1) ...\n",
      "Setting up libgme0:amd64 (0.6.2-1) ...\n",
      "Setting up libbdplus0:amd64 (0.1.2-2) ...\n",
      "Setting up libzvbi0:amd64 (0.2.35-13) ...\n",
      "Setting up libva-x11-2:amd64 (2.1.0-3) ...\n",
      "Setting up libsamplerate0:amd64 (0.1.9-1) ...\n",
      "Setting up libsndio6.1:amd64 (1.1.0-3) ...\n",
      "Setting up libtheora0:amd64 (1.1.1+dfsg.1-14) ...\n",
      "Setting up libmpg123-0:amd64 (1.25.10-1) ...\n",
      "Setting up libslang2:amd64 (2.3.1a-3ubuntu1) ...\n",
      "Setting up libwayland-cursor0:amd64 (1.16.0-1ubuntu1.1~18.04.3) ...\n",
      "Setting up libgsm1:amd64 (1.0.13-4build1) ...\n",
      "Setting up libmysofa0:amd64 (0.6~dfsg0-2ubuntu0.18.04.1) ...\n",
      "Setting up libwayland-egl1:amd64 (1.16.0-1ubuntu1.1~18.04.3) ...\n",
      "Setting up libcdio17:amd64 (1.0.0-2ubuntu2) ...\n",
      "Setting up libwayland-server0:amd64 (1.16.0-1ubuntu1.1~18.04.3) ...\n",
      "Setting up libwebp6:amd64 (0.6.1-2) ...\n",
      "Setting up xserver-common (2:1.19.6-1ubuntu4.4) ...\n",
      "Setting up libavutil55:amd64 (7:3.4.8-0ubuntu0.2) ...\n",
      "Setting up libopenmpt0:amd64 (0.3.6-1) ...\n",
      "Setting up xvfb (2:1.19.6-1ubuntu4.4) ...\n",
      "Setting up mesa-vdpau-drivers:amd64 (20.0.8-0ubuntu1~18.04.1) ...\n",
      "Setting up libgbm1:amd64 (20.0.8-0ubuntu1~18.04.1) ...\n",
      "Setting up libass9:amd64 (1:0.14.0-1) ...\n",
      "Setting up libdc1394-22:amd64 (2.2.5-1) ...\n",
      "Setting up libcdio-cdda2:amd64 (10.2+0.94+2-2build1) ...\n",
      "Setting up xfonts-utils (1:7.7+6) ...\n",
      "Setting up python3-opengl (3.1.0+dfsg-1) ...\n",
      "Setting up libswresample2:amd64 (7:3.4.8-0ubuntu0.2) ...\n",
      "Setting up librubberband2:amd64 (1.8.1-7ubuntu2) ...\n",
      "Setting up libsdl2-2.0-0:amd64 (2.0.8+dfsg1-1ubuntu1.18.04.4) ...\n",
      "Setting up libswscale4:amd64 (7:3.4.8-0ubuntu0.2) ...\n",
      "Setting up libwebpmux3:amd64 (0.6.1-2) ...\n",
      "Setting up va-driver-all:amd64 (2.1.0-3) ...\n",
      "Setting up libcdio-paranoia2:amd64 (10.2+0.94+2-2build1) ...\n",
      "Setting up libpostproc54:amd64 (7:3.4.8-0ubuntu0.2) ...\n",
      "Setting up libjack-jackd2-0:amd64 (1.9.12~dfsg-2) ...\n",
      "Setting up libopenal1:amd64 (1:1.18.2-2) ...\n",
      "Setting up libegl-mesa0:amd64 (20.0.8-0ubuntu1~18.04.1) ...\n",
      "Setting up libcaca0:amd64 (0.99.beta19-2ubuntu0.18.04.1) ...\n",
      "Setting up xfonts-base (1:1.0.4+nmu1) ...\n",
      "Setting up vdpau-driver-all:amd64 (1.1.1-3ubuntu1) ...\n",
      "Setting up libavresample3:amd64 (7:3.4.8-0ubuntu0.2) ...\n",
      "Setting up libavcodec57:amd64 (7:3.4.8-0ubuntu0.2) ...\n",
      "Setting up libegl1:amd64 (1.0.0-2ubuntu2.3) ...\n",
      "Setting up libwayland-egl1-mesa:amd64 (20.0.8-0ubuntu1~18.04.1) ...\n",
      "Setting up libchromaprint1:amd64 (1.4.3-1) ...\n",
      "Setting up libavformat57:amd64 (7:3.4.8-0ubuntu0.2) ...\n",
      "Setting up libavfilter6:amd64 (7:3.4.8-0ubuntu0.2) ...\n",
      "Setting up libavdevice57:amd64 (7:3.4.8-0ubuntu0.2) ...\n",
      "Setting up ffmpeg (7:3.4.8-0ubuntu0.2) ...\n",
      "Processing triggers for libc-bin (2.27-3ubuntu1) ...\n",
      "Processing triggers for fontconfig (2.12.6-0ubuntu2) ...\n",
      "Collecting gym==0.10.11\n",
      "  Downloading gym-0.10.11.tar.gz (1.5 MB)\n",
      "\u001b[K     |████████████████████████████████| 1.5 MB 174 kB/s eta 0:00:01\n",
      "\u001b[?25hRequirement already satisfied: scipy in /root/venv/lib/python3.6/site-packages (from gym==0.10.11) (1.4.1)\n",
      "Requirement already satisfied: numpy>=1.10.4 in /root/venv/lib/python3.6/site-packages (from gym==0.10.11) (1.19.1)\n",
      "Requirement already satisfied: requests>=2.0 in /root/venv/lib/python3.6/site-packages (from gym==0.10.11) (2.24.0)\n",
      "Requirement already satisfied: six in /root/venv/lib/python3.6/site-packages (from gym==0.10.11) (1.15.0)\n",
      "Requirement already satisfied: pyglet>=1.2.0 in /root/venv/lib/python3.6/site-packages (from gym==0.10.11) (1.5.7)\n",
      "Requirement already satisfied: idna<3,>=2.5 in /root/venv/lib/python3.6/site-packages (from requests>=2.0->gym==0.10.11) (2.10)\n",
      "Requirement already satisfied: urllib3!=1.25.0,!=1.25.1,<1.26,>=1.21.1 in /root/venv/lib/python3.6/site-packages (from requests>=2.0->gym==0.10.11) (1.25.10)\n",
      "Requirement already satisfied: chardet<4,>=3.0.2 in /root/venv/lib/python3.6/site-packages (from requests>=2.0->gym==0.10.11) (3.0.4)\n",
      "Requirement already satisfied: certifi>=2017.4.17 in /root/venv/lib/python3.6/site-packages (from requests>=2.0->gym==0.10.11) (2020.6.20)\n",
      "Building wheels for collected packages: gym\n",
      "  Building wheel for gym (setup.py) ... \u001b[?25ldone\n",
      "\u001b[?25h  Created wheel for gym: filename=gym-0.10.11-py3-none-any.whl size=1588312 sha256=104c5f474aac9cb56f4fdaef49bcece3d37860af2d04a61191fc4511f97a0b36\n",
      "  Stored in directory: /root/.cache/pip/wheels/e7/1b/c8/023f43999aa5cb14a3c337e242cb333b5900161c71e2c1567e\n",
      "Successfully built gym\n",
      "Installing collected packages: gym\n",
      "  Attempting uninstall: gym\n",
      "    Found existing installation: gym 0.13.0\n",
      "    Uninstalling gym-0.13.0:\n",
      "      Successfully uninstalled gym-0.13.0\n",
      "\u001b[31mERROR: After October 2020 you may experience errors when installing or updating packages. This is because pip will change the way that it resolves dependency conflicts.\n",
      "\n",
      "We recommend you use --use-feature=2020-resolver to test your packages with the new resolver before it becomes the default.\n",
      "\n",
      "iml-profiler 1.0.0 requires gym==0.13.0, but you'll have gym 0.10.11 which is incompatible.\u001b[0m\n",
      "Successfully installed gym-0.10.11\n",
      "Collecting imageio==2.4.0\n",
      "  Downloading imageio-2.4.0.tar.gz (3.3 MB)\n",
      "\u001b[K     |████████████████████████████████| 3.3 MB 1.3 MB/s eta 0:00:01\n",
      "\u001b[?25hRequirement already satisfied: numpy in /root/venv/lib/python3.6/site-packages (from imageio==2.4.0) (1.19.1)\n",
      "Requirement already satisfied: pillow in /root/venv/lib/python3.6/site-packages (from imageio==2.4.0) (7.2.0)\n",
      "Building wheels for collected packages: imageio\n",
      "  Building wheel for imageio (setup.py) ... \u001b[?25ldone\n",
      "\u001b[?25h  Created wheel for imageio: filename=imageio-2.4.0-py3-none-any.whl size=3303879 sha256=ece02785004a8c574e787258e7893c10716d34fca30824e595495e3177d96254\n",
      "  Stored in directory: /root/.cache/pip/wheels/ef/58/ab/c9c487e93a155126d7b2c93c1007bf4f2df4a5e9bb38c1d8b1\n",
      "Successfully built imageio\n",
      "Installing collected packages: imageio\n",
      "Successfully installed imageio-2.4.0\n",
      "Requirement already satisfied: PILLOW in /root/venv/lib/python3.6/site-packages (7.2.0)\n",
      "Collecting pyglet==1.3.2\n",
      "  Downloading pyglet-1.3.2-py2.py3-none-any.whl (1.0 MB)\n",
      "\u001b[K     |████████████████████████████████| 1.0 MB 3.9 MB/s eta 0:00:01\n",
      "\u001b[?25hCollecting future\n",
      "  Downloading future-0.18.2.tar.gz (829 kB)\n",
      "\u001b[K     |████████████████████████████████| 829 kB 7.5 MB/s eta 0:00:01\n",
      "\u001b[?25hBuilding wheels for collected packages: future\n",
      "  Building wheel for future (setup.py) ... \u001b[?25ldone\n",
      "\u001b[?25h  Created wheel for future: filename=future-0.18.2-py3-none-any.whl size=491058 sha256=4981bbb1c820f882f333b1e6cae7ba306cb40a1722b6160124c09c8f9fedaa60\n",
      "  Stored in directory: /root/.cache/pip/wheels/6e/9c/ed/4499c9865ac1002697793e0ae05ba6be33553d098f3347fb94\n",
      "Successfully built future\n",
      "Installing collected packages: future, pyglet\n",
      "  Attempting uninstall: pyglet\n",
      "    Found existing installation: pyglet 1.5.7\n",
      "    Uninstalling pyglet-1.5.7:\n",
      "      Successfully uninstalled pyglet-1.5.7\n",
      "\u001b[31mERROR: After October 2020 you may experience errors when installing or updating packages. This is because pip will change the way that it resolves dependency conflicts.\n",
      "\n",
      "We recommend you use --use-feature=2020-resolver to test your packages with the new resolver before it becomes the default.\n",
      "\n",
      "iml-profiler 1.0.0 requires gym==0.13.0, but you'll have gym 0.10.11 which is incompatible.\u001b[0m\n",
      "Successfully installed future-0.18.2 pyglet-1.3.2\n",
      "Collecting pyvirtualdisplay\n",
      "  Downloading PyVirtualDisplay-1.3.2-py2.py3-none-any.whl (14 kB)\n",
      "Collecting EasyProcess\n",
      "  Downloading EasyProcess-0.3-py2.py3-none-any.whl (7.9 kB)\n",
      "Installing collected packages: EasyProcess, pyvirtualdisplay\n",
      "Successfully installed EasyProcess-0.3 pyvirtualdisplay-1.3.2\n",
      "Requirement already up-to-date: tensorflow-probability==0.10.0 in /root/venv/lib/python3.6/site-packages (0.10.0)\n",
      "Requirement already satisfied, skipping upgrade: six>=1.10.0 in /root/venv/lib/python3.6/site-packages (from tensorflow-probability==0.10.0) (1.15.0)\n",
      "Requirement already satisfied, skipping upgrade: numpy>=1.13.3 in /root/venv/lib/python3.6/site-packages (from tensorflow-probability==0.10.0) (1.19.1)\n",
      "Requirement already satisfied, skipping upgrade: decorator in /root/venv/lib/python3.6/site-packages (from tensorflow-probability==0.10.0) (4.4.2)\n",
      "Requirement already satisfied, skipping upgrade: gast>=0.3.2 in /root/venv/lib/python3.6/site-packages (from tensorflow-probability==0.10.0) (0.3.3)\n",
      "Requirement already satisfied, skipping upgrade: cloudpickle>=1.2.2 in /root/venv/lib/python3.6/site-packages (from tensorflow-probability==0.10.0) (1.2.2)\n"
     ]
    }
   ],
   "source": [
    "!sudo apt-get update && sudo apt-get install -y xvfb ffmpeg python3-opengl\n",
    "!pip install 'gym==0.10.11'\n",
    "!pip install 'imageio==2.4.0'\n",
    "!pip install PILLOW\n",
    "!pip install 'pyglet==1.3.2'\n",
    "!pip install pyvirtualdisplay\n",
    "# Use tf-agents from this repo checkout.\n",
    "# !pip install tf-agents\n",
    "# TF v2.2.0 compatiable.\n",
    "!pip install --upgrade tensorflow-probability==0.10.0\n",
    "# !pip install --upgrade tensorflow-probability"
   ]
  },
  {
   "cell_type": "code",
   "execution_count": 3,
   "metadata": {
    "colab": {},
    "colab_type": "code",
    "id": "sMitx5qSgJk1"
   },
   "outputs": [],
   "source": [
    "from __future__ import absolute_import, division, print_function\n",
    "\n",
    "import base64\n",
    "import imageio\n",
    "import IPython\n",
    "import matplotlib\n",
    "import matplotlib.pyplot as plt\n",
    "import numpy as np\n",
    "import PIL.Image\n",
    "import pyvirtualdisplay\n",
    "\n",
    "import tensorflow as tf\n",
    "\n",
    "from tf_agents.agents.dqn import dqn_agent\n",
    "from tf_agents.drivers import dynamic_step_driver\n",
    "from tf_agents.environments import suite_gym\n",
    "from tf_agents.environments import tf_py_environment\n",
    "from tf_agents.eval import metric_utils\n",
    "from tf_agents.metrics import tf_metrics\n",
    "from tf_agents.networks import q_network\n",
    "from tf_agents.policies import random_tf_policy\n",
    "from tf_agents.replay_buffers import tf_uniform_replay_buffer\n",
    "from tf_agents.trajectories import trajectory\n",
    "from tf_agents.utils import common"
   ]
  },
  {
   "cell_type": "code",
   "execution_count": 4,
   "metadata": {
    "colab": {},
    "colab_type": "code",
    "id": "J6HsdS5GbSjd"
   },
   "outputs": [],
   "source": [
    "tf.compat.v1.enable_v2_behavior()\n",
    "\n",
    "# Set up a virtual display for rendering OpenAI gym environments.\n",
    "display = pyvirtualdisplay.Display(visible=0, size=(1400, 900)).start()"
   ]
  },
  {
   "cell_type": "code",
   "execution_count": 5,
   "metadata": {
    "colab": {},
    "colab_type": "code",
    "id": "NspmzG4nP3b9"
   },
   "outputs": [
    {
     "data": {
      "text/plain": [
       "'2.2.0'"
      ]
     },
     "execution_count": 5,
     "metadata": {},
     "output_type": "execute_result"
    }
   ],
   "source": [
    "tf.version.VERSION"
   ]
  },
  {
   "cell_type": "markdown",
   "metadata": {
    "colab_type": "text",
    "id": "LmC0NDhdLIKY"
   },
   "source": [
    "## Hyperparameters"
   ]
  },
  {
   "cell_type": "code",
   "execution_count": 6,
   "metadata": {
    "colab": {},
    "colab_type": "code",
    "id": "HC1kNrOsLSIZ"
   },
   "outputs": [],
   "source": [
    "num_iterations = 20000 # @param {type:\"integer\"}\n",
    "\n",
    "initial_collect_steps = 1000  # @param {type:\"integer\"} \n",
    "collect_steps_per_iteration = 1  # @param {type:\"integer\"}\n",
    "replay_buffer_max_length = 100000  # @param {type:\"integer\"}\n",
    "\n",
    "batch_size = 64  # @param {type:\"integer\"}\n",
    "learning_rate = 1e-3  # @param {type:\"number\"}\n",
    "log_interval = 200  # @param {type:\"integer\"}\n",
    "\n",
    "num_eval_episodes = 10  # @param {type:\"integer\"}\n",
    "eval_interval = 1000  # @param {type:\"integer\"}"
   ]
  },
  {
   "cell_type": "markdown",
   "metadata": {
    "colab_type": "text",
    "id": "VMsJC3DEgI0x"
   },
   "source": [
    "## Environment\n",
    "\n",
    "In Reinforcement Learning (RL), an environment represents the task or problem to be solved. Standard environments can be created in TF-Agents using `tf_agents.environments` suites. TF-Agents has suites for loading environments from sources such as the OpenAI Gym, Atari, and DM Control.\n",
    "\n",
    "Load the CartPole environment from the OpenAI Gym suite. "
   ]
  },
  {
   "cell_type": "code",
   "execution_count": 7,
   "metadata": {
    "colab": {},
    "colab_type": "code",
    "id": "pYEz-S9gEv2-"
   },
   "outputs": [],
   "source": [
    "env_name = 'CartPole-v0'\n",
    "env = suite_gym.load(env_name)"
   ]
  },
  {
   "cell_type": "markdown",
   "metadata": {
    "colab_type": "text",
    "id": "IIHYVBkuvPNw"
   },
   "source": [
    "You can render this environment to see how it looks. A free-swinging pole is attached to a cart.  The goal is to move the cart right or left in order to keep the pole pointing up."
   ]
  },
  {
   "cell_type": "code",
   "execution_count": 8,
   "metadata": {
    "colab": {},
    "colab_type": "code",
    "id": "RlO7WIQHu_7D"
   },
   "outputs": [
    {
     "data": {
      "image/png": "[encoded data removed]",
      "text/plain": [
       "<PIL.Image.Image image mode=RGB size=600x400 at 0x7F8AB686BF98>"
      ]
     },
     "execution_count": 8,
     "metadata": {},
     "output_type": "execute_result"
    }
   ],
   "source": [
    "#@test {\"skip\": true}\n",
    "env.reset()\n",
    "PIL.Image.fromarray(env.render())"
   ]
  },
  {
   "cell_type": "markdown",
   "metadata": {
    "colab_type": "text",
    "id": "B9_lskPOey18"
   },
   "source": [
    "The `environment.step` method takes an `action` in the environment and returns a `TimeStep` tuple containing the next observation of the environment and the reward for the action.\n",
    "\n",
    "The `time_step_spec()` method returns the specification for the `TimeStep` tuple. Its `observation` attribute shows the shape of observations, the data types, and the ranges of allowed values. The `reward` attribute shows the same details for the reward.\n",
    "\n"
   ]
  },
  {
   "cell_type": "code",
   "execution_count": 9,
   "metadata": {
    "colab": {},
    "colab_type": "code",
    "id": "exDv57iHfwQV"
   },
   "outputs": [
    {
     "name": "stdout",
     "output_type": "stream",
     "text": [
      "Observation Spec:\n",
      "BoundedArraySpec(shape=(4,), dtype=dtype('float32'), name='observation', minimum=[-4.8000002e+00 -3.4028235e+38 -4.1887903e-01 -3.4028235e+38], maximum=[4.8000002e+00 3.4028235e+38 4.1887903e-01 3.4028235e+38])\n"
     ]
    }
   ],
   "source": [
    "print('Observation Spec:')\n",
    "print(env.time_step_spec().observation)"
   ]
  },
  {
   "cell_type": "code",
   "execution_count": 10,
   "metadata": {
    "colab": {},
    "colab_type": "code",
    "id": "UxiSyCbBUQPi"
   },
   "outputs": [
    {
     "name": "stdout",
     "output_type": "stream",
     "text": [
      "Reward Spec:\n",
      "ArraySpec(shape=(), dtype=dtype('float32'), name='reward')\n"
     ]
    }
   ],
   "source": [
    "print('Reward Spec:')\n",
    "print(env.time_step_spec().reward)"
   ]
  },
  {
   "cell_type": "markdown",
   "metadata": {
    "colab_type": "text",
    "id": "b_lHcIcqUaqB"
   },
   "source": [
    "The `action_spec()` method returns the shape, data types, and allowed values of valid actions."
   ]
  },
  {
   "cell_type": "code",
   "execution_count": 11,
   "metadata": {
    "colab": {},
    "colab_type": "code",
    "id": "bttJ4uxZUQBr"
   },
   "outputs": [
    {
     "name": "stdout",
     "output_type": "stream",
     "text": [
      "Action Spec:\n",
      "BoundedArraySpec(shape=(), dtype=dtype('int64'), name='action', minimum=0, maximum=1)\n"
     ]
    }
   ],
   "source": [
    "print('Action Spec:')\n",
    "print(env.action_spec())"
   ]
  },
  {
   "cell_type": "markdown",
   "metadata": {
    "colab_type": "text",
    "id": "eJCgJnx3g0yY"
   },
   "source": [
    "In the Cartpole environment:\n",
    "\n",
    "-   `observation` is an array of 4 floats: \n",
    "    -   the position and velocity of the cart\n",
    "    -   the angular position and velocity of the pole \n",
    "-   `reward` is a scalar float value\n",
    "-   `action` is a scalar integer with only two possible values:\n",
    "    -   `0` — \"move left\"\n",
    "    -   `1` — \"move right\"\n"
   ]
  },
  {
   "cell_type": "code",
   "execution_count": 12,
   "metadata": {
    "colab": {},
    "colab_type": "code",
    "id": "V2UGR5t_iZX-"
   },
   "outputs": [
    {
     "name": "stdout",
     "output_type": "stream",
     "text": [
      "Time step:\n",
      "TimeStep(step_type=array(0, dtype=int32), reward=array(0., dtype=float32), discount=array(1., dtype=float32), observation=array([-0.02026672, -0.01764999, -0.01393447, -0.04191698], dtype=float32))\n",
      "Next time step:\n",
      "TimeStep(step_type=array(1, dtype=int32), reward=array(1., dtype=float32), discount=array(1., dtype=float32), observation=array([-0.02061972,  0.17766897, -0.01477281, -0.3389636 ], dtype=float32))\n"
     ]
    }
   ],
   "source": [
    "time_step = env.reset()\n",
    "print('Time step:')\n",
    "print(time_step)\n",
    "\n",
    "action = np.array(1, dtype=np.int32)\n",
    "\n",
    "next_time_step = env.step(action)\n",
    "print('Next time step:')\n",
    "print(next_time_step)"
   ]
  },
  {
   "cell_type": "markdown",
   "metadata": {
    "colab_type": "text",
    "id": "4JSc9GviWUBK"
   },
   "source": [
    "Usually two environments are instantiated: one for training and one for evaluation. "
   ]
  },
  {
   "cell_type": "code",
   "execution_count": 13,
   "metadata": {
    "colab": {},
    "colab_type": "code",
    "id": "N7brXNIGWXjC"
   },
   "outputs": [],
   "source": [
    "train_py_env = suite_gym.load(env_name)\n",
    "eval_py_env = suite_gym.load(env_name)"
   ]
  },
  {
   "cell_type": "code",
   "execution_count": 45,
   "metadata": {
    "pycharm": {
     "name": "#%%\n"
    }
   },
   "outputs": [
    {
     "name": "stdout",
     "output_type": "stream",
     "text": [
      "<bound method PyEnvironment.step of <tf_agents.environments.wrappers.TimeLimit object at 0x7fe5069984e0>>\n",
      "['__class__',\n",
      " '__delattr__',\n",
      " '__dir__',\n",
      " '__doc__',\n",
      " '__eq__',\n",
      " '__format__',\n",
      " '__ge__',\n",
      " '__getattribute__',\n",
      " '__gt__',\n",
      " '__hash__',\n",
      " '__init__',\n",
      " '__init_subclass__',\n",
      " '__le__',\n",
      " '__lt__',\n",
      " '__ne__',\n",
      " '__new__',\n",
      " '__reduce__',\n",
      " '__reduce_ex__',\n",
      " '__repr__',\n",
      " '__setattr__',\n",
      " '__sizeof__',\n",
      " '__str__',\n",
      " '__subclasshook__',\n",
      " 'co_argcount',\n",
      " 'co_cellvars',\n",
      " 'co_code',\n",
      " 'co_consts',\n",
      " 'co_filename',\n",
      " 'co_firstlineno',\n",
      " 'co_flags',\n",
      " 'co_freevars',\n",
      " 'co_kwonlyargcount',\n",
      " 'co_lnotab',\n",
      " 'co_name',\n",
      " 'co_names',\n",
      " 'co_nlocals',\n",
      " 'co_stacksize',\n",
      " 'co_varnames']\n",
      "('/root/venv/lib/python3.6/site-packages/tf_agents/environments/py_environment.py',\n",
      " 144)\n",
      "def tf__step(self, action):\n",
      "    'Updates the environment according to the action and returns a `TimeStep`.\\n\\n    If the environment returned a `TimeStep` with `StepType.LAST` at the\\n    previous step the implementation of `_step` in the environment should call\\n    `reset` to start a new sequence and ignore `action`.\\n\\n    This method will start a new sequence if called after the environment\\n    has been constructed and `reset` has not been called. In this case\\n    `action` will be ignored.\\n\\n    Note: Subclasses cannot override this directly. Subclasses implement\\n    _step() which will be called by this method. The output of _step() will be\\n    cached and made available through current_time_step().\\n\\n    Args:\\n      action: A NumPy array, or a nested dict, list or tuple of arrays\\n        corresponding to `action_spec()`.\\n\\n    Returns:\\n      A `TimeStep` namedtuple containing:\\n        step_type: A `StepType` value.\\n        reward: A NumPy array, reward value for this timestep.\\n        discount: A NumPy array, discount in the range [0, 1].\\n        observation: A NumPy array, or a nested dict, list or tuple of arrays\\n          corresponding to `observation_spec()`.\\n    '\n",
      "    do_return = False\n",
      "    retval_ = ag__.UndefinedReturnValue()\n",
      "    with ag__.FunctionScope('step', 'fscope', ag__.ConversionOptions(recursive=True, user_requested=True, optional_features=(), internal_convert_user_code=True)) as fscope:\n",
      "\n",
      "        def get_state():\n",
      "            return (self._current_time_step,)\n",
      "\n",
      "        def set_state(loop_vars):\n",
      "            (self._current_time_step,) = loop_vars\n",
      "\n",
      "        def if_true():\n",
      "            try:\n",
      "                do_return = True\n",
      "                retval_ = fscope.mark_return_value(ag__.converted_call(self.reset, (), None, fscope))\n",
      "            except:\n",
      "                do_return = False\n",
      "                raise\n",
      "            return (do_return, retval_)\n",
      "\n",
      "        def if_false():\n",
      "            self._current_time_step = ag__.converted_call(self._step, (action,), None, fscope)\n",
      "            try:\n",
      "                do_return = True\n",
      "                retval_ = fscope.mark_return_value(self._current_time_step)\n",
      "            except:\n",
      "                do_return = False\n",
      "                raise\n",
      "            return (do_return, retval_)\n",
      "        cond = (self._current_time_step is None)\n",
      "        (do_return, retval_) = ag__.if_stmt(cond, if_true, if_false, get_state, set_state, ('do_return', 'retval_'), ('self._current_time_step',))\n",
      "    (do_return,)\n",
      "    return ag__.retval(retval_)\n",
      "\n"
     ]
    }
   ],
   "source": [
    "train_py_env.wrapped_env().gym\n",
    "\n",
    "import pprint\n",
    "print(train_py_env.step)\n",
    "pprint.pprint(dir(train_py_env.step.__code__))\n",
    "pprint.pprint((train_py_env.step.__code__.co_filename, train_py_env.step.__code__.co_firstlineno))\n",
    "\n",
    "print(tf.autograph.to_code(train_py_env.step))"
   ]
  },
  {
   "cell_type": "markdown",
   "metadata": {
    "colab_type": "text",
    "id": "zuUqXAVmecTU",
    "pycharm": {
     "name": "#%% md\n"
    }
   },
   "source": [
    "The Cartpole environment, like most environments, is written in pure Python. This is converted to TensorFlow using the `TFPyEnvironment` wrapper.\n",
    "\n",
    "The original environment's API uses Numpy arrays. The `TFPyEnvironment` converts these to `Tensors` to make it compatible with Tensorflow agents and policies.\n"
   ]
  },
  {
   "cell_type": "code",
   "execution_count": 46,
   "metadata": {
    "colab": {},
    "colab_type": "code",
    "id": "Xp-Y4mD6eDhF",
    "pycharm": {
     "name": "#%%\n"
    }
   },
   "outputs": [],
   "source": [
    "train_env = tf_py_environment.TFPyEnvironment(train_py_env)\n",
    "eval_env = tf_py_environment.TFPyEnvironment(eval_py_env)"
   ]
  },
  {
   "cell_type": "markdown",
   "metadata": {
    "colab_type": "text",
    "id": "E9lW_OZYFR8A",
    "pycharm": {
     "name": "#%% md\n"
    }
   },
   "source": [
    "## Agent\n",
    "\n",
    "The algorithm used to solve an RL problem is represented by an `Agent`. TF-Agents provides standard implementations of a variety of `Agents`, including:\n",
    "\n",
    "-   [DQN](https://storage.googleapis.com/deepmind-media/dqn/DQNNaturePaper.pdf) (used in this tutorial)\n",
    "-   [REINFORCE](http://www-anw.cs.umass.edu/~barto/courses/cs687/williams92simple.pdf)\n",
    "-   [DDPG](https://arxiv.org/pdf/1509.02971.pdf)\n",
    "-   [TD3](https://arxiv.org/pdf/1802.09477.pdf)\n",
    "-   [PPO](https://arxiv.org/abs/1707.06347)\n",
    "-   [SAC](https://arxiv.org/abs/1801.01290).\n",
    "\n",
    "The DQN agent can be used in any environment which has a discrete action space.\n",
    "\n",
    "At the heart of a DQN Agent is a `QNetwork`, a neural network model that can learn to predict `QValues` (expected returns) for all actions, given an observation from the environment.\n",
    "\n",
    "Use `tf_agents.networks.q_network` to create a `QNetwork`, passing in the `observation_spec`, `action_spec`, and a tuple describing the number and size of the model's hidden layers.\n",
    "\n"
   ]
  },
  {
   "cell_type": "code",
   "execution_count": 47,
   "metadata": {
    "colab": {},
    "colab_type": "code",
    "id": "TgkdEPg_muzV",
    "pycharm": {
     "name": "#%%\n"
    }
   },
   "outputs": [],
   "source": [
    "fc_layer_params = (100,)\n",
    "\n",
    "q_net = q_network.QNetwork(\n",
    "    train_env.observation_spec(),\n",
    "    train_env.action_spec(),\n",
    "    fc_layer_params=fc_layer_params)"
   ]
  },
  {
   "cell_type": "markdown",
   "metadata": {
    "colab_type": "text",
    "id": "z62u55hSmviJ",
    "pycharm": {
     "name": "#%% md\n"
    }
   },
   "source": [
    "Now use `tf_agents.agents.dqn.dqn_agent` to instantiate a `DqnAgent`. In addition to the `time_step_spec`, `action_spec` and the QNetwork, the agent constructor also requires an optimizer (in this case, `AdamOptimizer`), a loss function, and an integer step counter."
   ]
  },
  {
   "cell_type": "code",
   "execution_count": 48,
   "metadata": {
    "colab": {},
    "colab_type": "code",
    "id": "jbY4yrjTEyc9",
    "pycharm": {
     "name": "#%%\n"
    }
   },
   "outputs": [],
   "source": [
    "optimizer = tf.compat.v1.train.AdamOptimizer(learning_rate=learning_rate)\n",
    "\n",
    "train_step_counter = tf.Variable(0)\n",
    "\n",
    "agent = dqn_agent.DqnAgent(\n",
    "    train_env.time_step_spec(),\n",
    "    train_env.action_spec(),\n",
    "    q_network=q_net,\n",
    "    optimizer=optimizer,\n",
    "    td_errors_loss_fn=common.element_wise_squared_loss,\n",
    "    train_step_counter=train_step_counter)\n",
    "\n",
    "agent.initialize()"
   ]
  },
  {
   "cell_type": "markdown",
   "metadata": {
    "colab_type": "text",
    "id": "I0KLrEPwkn5x",
    "pycharm": {
     "name": "#%% md\n"
    }
   },
   "source": [
    "## Policies\n",
    "\n",
    "A policy defines the way an agent acts in an environment. Typically, the goal of reinforcement learning is to train the underlying model until the policy produces the desired outcome.\n",
    "\n",
    "In this tutorial:\n",
    "\n",
    "-   The desired outcome is keeping the pole balanced upright over the cart.\n",
    "-   The policy returns an action (left or right) for each `time_step` observation.\n",
    "\n",
    "Agents contain two policies: \n",
    "\n",
    "-   `agent.policy` — The main policy that is used for evaluation and deployment.\n",
    "-   `agent.collect_policy` — A second policy that is used for data collection.\n",
    "\n",
    "\n",
    "\n",
    "\n",
    "\n",
    "\n",
    "\n",
    "\n"
   ]
  },
  {
   "cell_type": "code",
   "execution_count": 49,
   "metadata": {
    "colab": {},
    "colab_type": "code",
    "id": "BwY7StuMkuV4",
    "pycharm": {
     "name": "#%%\n"
    }
   },
   "outputs": [],
   "source": [
    "eval_policy = agent.policy\n",
    "collect_policy = agent.collect_policy"
   ]
  },
  {
   "cell_type": "markdown",
   "metadata": {
    "colab_type": "text",
    "id": "2Qs1Fl3dV0ae",
    "pycharm": {
     "name": "#%% md\n"
    }
   },
   "source": [
    "Policies can be created independently of agents. For example, use `tf_agents.policies.random_tf_policy` to create a policy which will randomly select an action for each `time_step`."
   ]
  },
  {
   "cell_type": "code",
   "execution_count": 50,
   "metadata": {
    "colab": {},
    "colab_type": "code",
    "id": "HE37-UCIrE69",
    "pycharm": {
     "name": "#%%\n"
    }
   },
   "outputs": [],
   "source": [
    "random_policy = random_tf_policy.RandomTFPolicy(train_env.time_step_spec(),\n",
    "                                                train_env.action_spec())"
   ]
  },
  {
   "cell_type": "markdown",
   "metadata": {
    "colab_type": "text",
    "id": "dOlnlRRsUbxP",
    "pycharm": {
     "name": "#%% md\n"
    }
   },
   "source": [
    "To get an action from a policy, call the `policy.action(time_step)` method. The `time_step` contains the observation from the environment. This method returns a `PolicyStep`, which is a named tuple with three components:\n",
    "\n",
    "-   `action` — the action to be taken (in this case, `0` or `1`)\n",
    "-   `state` — used for stateful (that is, RNN-based) policies\n",
    "-   `info` — auxiliary data, such as log probabilities of actions"
   ]
  },
  {
   "cell_type": "code",
   "execution_count": 51,
   "metadata": {
    "colab": {},
    "colab_type": "code",
    "id": "5gCcpXswVAxk"
   },
   "outputs": [],
   "source": [
    "example_environment = tf_py_environment.TFPyEnvironment(\n",
    "    suite_gym.load('CartPole-v0'))"
   ]
  },
  {
   "cell_type": "code",
   "execution_count": 52,
   "metadata": {
    "colab": {},
    "colab_type": "code",
    "id": "D4DHZtq3Ndis"
   },
   "outputs": [],
   "source": [
    "time_step = example_environment.reset()"
   ]
  },
  {
   "cell_type": "code",
   "execution_count": 53,
   "metadata": {
    "colab": {},
    "colab_type": "code",
    "id": "PRFqAUzpNaAW",
    "pycharm": {
     "name": "#%%\n"
    }
   },
   "outputs": [
    {
     "data": {
      "text/plain": [
       "PolicyStep(action=<tf.Tensor: shape=(1,), dtype=int64, numpy=array([1])>, state=(), info=())"
      ]
     },
     "execution_count": 53,
     "metadata": {},
     "output_type": "execute_result"
    }
   ],
   "source": [
    "random_policy.action(time_step)"
   ]
  },
  {
   "cell_type": "markdown",
   "metadata": {
    "colab_type": "text",
    "id": "94rCXQtbUbXv",
    "pycharm": {
     "name": "#%% md\n"
    }
   },
   "source": [
    "## Metrics and Evaluation\n",
    "\n",
    "The most common metric used to evaluate a policy is the average return. The return is the sum of rewards obtained while running a policy in an environment for an episode. Several episodes are run, creating an average return.\n",
    "\n",
    "The following function computes the average return of a policy, given the policy, environment, and a number of episodes.\n"
   ]
  },
  {
   "cell_type": "code",
   "execution_count": 54,
   "metadata": {
    "colab": {},
    "colab_type": "code",
    "id": "bitzHo5_UbXy",
    "pycharm": {
     "name": "#%%\n"
    }
   },
   "outputs": [],
   "source": [
    "#@test {\"skip\": true}\n",
    "def compute_avg_return(environment, policy, num_episodes=10):\n",
    "\n",
    "  total_return = 0.0\n",
    "  for _ in range(num_episodes):\n",
    "\n",
    "    time_step = environment.reset()\n",
    "    episode_return = 0.0\n",
    "\n",
    "    while not time_step.is_last():\n",
    "      action_step = policy.action(time_step)\n",
    "      time_step = environment.step(action_step.action)\n",
    "      episode_return += time_step.reward\n",
    "    total_return += episode_return\n",
    "\n",
    "  avg_return = total_return / num_episodes\n",
    "  return avg_return.numpy()[0]\n",
    "\n",
    "\n",
    "# See also the metrics module for standard implementations of different metrics.\n",
    "# https://github.com/tensorflow/agents/tree/master/tf_agents/metrics"
   ]
  },
  {
   "cell_type": "markdown",
   "metadata": {
    "colab_type": "text",
    "id": "_snCVvq5Z8lJ",
    "pycharm": {
     "name": "#%% md\n"
    }
   },
   "source": [
    "Running this computation on the `random_policy` shows a baseline performance in the environment."
   ]
  },
  {
   "cell_type": "code",
   "execution_count": 55,
   "metadata": {
    "colab": {},
    "colab_type": "code",
    "id": "9bgU6Q6BZ8Bp",
    "pycharm": {
     "name": "#%%\n"
    }
   },
   "outputs": [
    {
     "data": {
      "text/plain": [
       "27.7"
      ]
     },
     "execution_count": 55,
     "metadata": {},
     "output_type": "execute_result"
    }
   ],
   "source": [
    "compute_avg_return(eval_env, random_policy, num_eval_episodes)"
   ]
  },
  {
   "cell_type": "markdown",
   "metadata": {
    "colab_type": "text",
    "id": "NLva6g2jdWgr",
    "pycharm": {
     "name": "#%% md\n"
    }
   },
   "source": [
    "## Replay Buffer\n",
    "\n",
    "The replay buffer keeps track of data collected from the environment. This tutorial uses `tf_agents.replay_buffers.tf_uniform_replay_buffer.TFUniformReplayBuffer`, as it is the most common. \n",
    "\n",
    "The constructor requires the specs for the data it will be collecting. This is available from the agent using the `collect_data_spec` method. The batch size and maximum buffer length are also required.\n",
    "\n"
   ]
  },
  {
   "cell_type": "code",
   "execution_count": 56,
   "metadata": {
    "colab": {},
    "colab_type": "code",
    "id": "vX2zGUWJGWAl",
    "pycharm": {
     "name": "#%%\n"
    }
   },
   "outputs": [],
   "source": [
    "replay_buffer = tf_uniform_replay_buffer.TFUniformReplayBuffer(\n",
    "    data_spec=agent.collect_data_spec,\n",
    "    batch_size=train_env.batch_size,\n",
    "    max_length=replay_buffer_max_length)"
   ]
  },
  {
   "cell_type": "markdown",
   "metadata": {
    "colab_type": "text",
    "id": "ZGNTDJpZs4NN",
    "pycharm": {
     "name": "#%% md\n"
    }
   },
   "source": [
    "For most agents, `collect_data_spec` is a named tuple called `Trajectory`, containing the specs for observations, actions, rewards, and other items."
   ]
  },
  {
   "cell_type": "code",
   "execution_count": 57,
   "metadata": {
    "colab": {},
    "colab_type": "code",
    "id": "_IZ-3HcqgE1z"
   },
   "outputs": [
    {
     "data": {
      "text/plain": [
       "Trajectory(step_type=TensorSpec(shape=(), dtype=tf.int32, name='step_type'), observation=BoundedTensorSpec(shape=(4,), dtype=tf.float32, name='observation', minimum=array([-4.8000002e+00, -3.4028235e+38, -4.1887903e-01, -3.4028235e+38],\n",
       "      dtype=float32), maximum=array([4.8000002e+00, 3.4028235e+38, 4.1887903e-01, 3.4028235e+38],\n",
       "      dtype=float32)), action=BoundedTensorSpec(shape=(), dtype=tf.int64, name='action', minimum=array(0), maximum=array(1)), policy_info=(), next_step_type=TensorSpec(shape=(), dtype=tf.int32, name='step_type'), reward=TensorSpec(shape=(), dtype=tf.float32, name='reward'), discount=BoundedTensorSpec(shape=(), dtype=tf.float32, name='discount', minimum=array(0., dtype=float32), maximum=array(1., dtype=float32)))"
      ]
     },
     "execution_count": 57,
     "metadata": {},
     "output_type": "execute_result"
    }
   ],
   "source": [
    "agent.collect_data_spec"
   ]
  },
  {
   "cell_type": "code",
   "execution_count": 58,
   "metadata": {
    "colab": {},
    "colab_type": "code",
    "id": "sy6g1tGcfRlw",
    "pycharm": {
     "name": "#%%\n"
    }
   },
   "outputs": [
    {
     "data": {
      "text/plain": [
       "('step_type',\n",
       " 'observation',\n",
       " 'action',\n",
       " 'policy_info',\n",
       " 'next_step_type',\n",
       " 'reward',\n",
       " 'discount')"
      ]
     },
     "execution_count": 58,
     "metadata": {},
     "output_type": "execute_result"
    }
   ],
   "source": [
    "agent.collect_data_spec._fields"
   ]
  },
  {
   "cell_type": "markdown",
   "metadata": {
    "colab_type": "text",
    "id": "rVD5nQ9ZGo8_",
    "pycharm": {
     "name": "#%% md\n"
    }
   },
   "source": [
    "## Data Collection\n",
    "\n",
    "Now execute the random policy in the environment for a few steps, recording the data in the replay buffer."
   ]
  },
  {
   "cell_type": "code",
   "execution_count": 59,
   "metadata": {
    "colab": {},
    "colab_type": "code",
    "id": "wr1KSAEGG4h9",
    "pycharm": {
     "name": "#%%\n"
    }
   },
   "outputs": [],
   "source": [
    "#@test {\"skip\": true}\n",
    "def collect_step(environment, policy, buffer):\n",
    "  time_step = environment.current_time_step()\n",
    "  action_step = policy.action(time_step)\n",
    "  next_time_step = environment.step(action_step.action)\n",
    "  traj = trajectory.from_transition(time_step, action_step, next_time_step)\n",
    "\n",
    "  # Add trajectory to the replay buffer\n",
    "  buffer.add_batch(traj)\n",
    "\n",
    "def collect_data(env, policy, buffer, steps):\n",
    "  for _ in range(steps):\n",
    "    collect_step(env, policy, buffer)\n",
    "\n",
    "collect_data(train_env, random_policy, replay_buffer, steps=100)\n",
    "\n",
    "# This loop is so common in RL, that we provide standard implementations. \n",
    "# For more details see the drivers module.\n",
    "# https://github.com/tensorflow/agents/blob/master/tf_agents/docs/python/tf_agents/drivers.md"
   ]
  },
  {
   "cell_type": "markdown",
   "metadata": {
    "colab_type": "text",
    "id": "84z5pQJdoKxo",
    "pycharm": {
     "name": "#%% md\n"
    }
   },
   "source": [
    "The replay buffer is now a collection of Trajectories."
   ]
  },
  {
   "cell_type": "code",
   "execution_count": 69,
   "metadata": {
    "colab": {},
    "colab_type": "code",
    "id": "4wZnLu2ViO4E",
    "pycharm": {
     "name": "#%%\n"
    }
   },
   "outputs": [
    {
     "data": {
      "text/plain": [
       "(Trajectory(step_type=<tf.Tensor: shape=(), dtype=int32, numpy=1>, observation=<tf.Tensor: shape=(4,), dtype=float32, numpy=array([-0.01890429, -0.17341956, -0.0348757 ,  0.32071012], dtype=float32)>, action=<tf.Tensor: shape=(), dtype=int64, numpy=0>, policy_info=(), next_step_type=<tf.Tensor: shape=(), dtype=int32, numpy=1>, reward=<tf.Tensor: shape=(), dtype=float32, numpy=1.0>, discount=<tf.Tensor: shape=(), dtype=float32, numpy=1.0>),\n",
       " BufferInfo(ids=<tf.Tensor: shape=(), dtype=int64, numpy=54>, probabilities=<tf.Tensor: shape=(), dtype=float32, numpy=0.01>))"
      ]
     },
     "execution_count": 69,
     "metadata": {},
     "output_type": "execute_result"
    }
   ],
   "source": [
    "# For the curious:\n",
    "# Uncomment to peel one of these off and inspect it.\n",
    "iter(replay_buffer.as_dataset()).next()"
   ]
  },
  {
   "cell_type": "markdown",
   "metadata": {
    "colab_type": "text",
    "id": "TujU-PMUsKjS",
    "pycharm": {
     "name": "#%% md\n"
    }
   },
   "source": [
    "The agent needs access to the replay buffer. This is provided by creating an iterable `tf.data.Dataset` pipeline which will feed data to the agent.\n",
    "\n",
    "Each row of the replay buffer only stores a single observation step. But since the DQN Agent needs both the current and next observation to compute the loss, the dataset pipeline will sample two adjacent rows for each item in the batch (`num_steps=2`).\n",
    "\n",
    "This dataset is also optimized by running parallel calls and prefetching data."
   ]
  },
  {
   "cell_type": "code",
   "execution_count": 71,
   "metadata": {
    "colab": {},
    "colab_type": "code",
    "id": "ba7bilizt_qW"
   },
   "outputs": [
    {
     "data": {
      "text/plain": [
       "<PrefetchDataset shapes: (Trajectory(step_type=(64, 2), observation=(64, 2, 4), action=(64, 2), policy_info=(), next_step_type=(64, 2), reward=(64, 2), discount=(64, 2)), BufferInfo(ids=(64, 2), probabilities=(64,))), types: (Trajectory(step_type=tf.int32, observation=tf.float32, action=tf.int64, policy_info=(), next_step_type=tf.int32, reward=tf.float32, discount=tf.float32), BufferInfo(ids=tf.int64, probabilities=tf.float32))>"
      ]
     },
     "execution_count": 71,
     "metadata": {},
     "output_type": "execute_result"
    }
   ],
   "source": [
    "# Dataset generates trajectories with shape [Bx2x...]\n",
    "dataset = replay_buffer.as_dataset(\n",
    "    num_parallel_calls=3, \n",
    "    sample_batch_size=batch_size, \n",
    "    num_steps=2).prefetch(3)\n",
    "\n",
    "\n",
    "dataset"
   ]
  },
  {
   "cell_type": "code",
   "execution_count": 72,
   "metadata": {
    "colab": {},
    "colab_type": "code",
    "id": "K13AST-2ppOq"
   },
   "outputs": [
    {
     "name": "stdout",
     "output_type": "stream",
     "text": [
      "<tensorflow.python.data.ops.iterator_ops.OwnedIterator object at 0x7fe47554ccf8>\n"
     ]
    }
   ],
   "source": [
    "iterator = iter(dataset)\n",
    "\n",
    "print(iterator)\n",
    "\n"
   ]
  },
  {
   "cell_type": "code",
   "execution_count": null,
   "metadata": {
    "pycharm": {
     "name": "#%%\n"
    }
   },
   "outputs": [],
   "source": [
    "# For the curious:\n",
    "# Uncomment to see what the dataset iterator is feeding to the agent.\n",
    "# Compare this representation of replay data \n",
    "# to the collection of individual trajectories shown earlier.\n",
    "\n",
    "iterator.next()"
   ]
  },
  {
   "cell_type": "code",
   "execution_count": 73,
   "metadata": {
    "colab": {},
    "colab_type": "code",
    "id": "Th5w5Sff0b16"
   },
   "outputs": [
    {
     "data": {
      "text/plain": [
       "(Trajectory(step_type=<tf.Tensor: shape=(64, 2), dtype=int32, numpy=\n",
       " array([[1, 1],\n",
       "        [1, 1],\n",
       "        [1, 1],\n",
       "        [1, 1],\n",
       "        [1, 1],\n",
       "        [1, 1],\n",
       "        [1, 1],\n",
       "        [1, 1],\n",
       "        [1, 1],\n",
       "        [1, 1],\n",
       "        [1, 1],\n",
       "        [1, 1],\n",
       "        [1, 1],\n",
       "        [1, 2],\n",
       "        [1, 1],\n",
       "        [1, 1],\n",
       "        [1, 1],\n",
       "        [1, 1],\n",
       "        [1, 1],\n",
       "        [1, 1],\n",
       "        [1, 1],\n",
       "        [1, 1],\n",
       "        [1, 1],\n",
       "        [0, 1],\n",
       "        [1, 1],\n",
       "        [1, 1],\n",
       "        [1, 2],\n",
       "        [1, 1],\n",
       "        [1, 1],\n",
       "        [1, 1],\n",
       "        [1, 1],\n",
       "        [1, 1],\n",
       "        [1, 1],\n",
       "        [1, 1],\n",
       "        [1, 1],\n",
       "        [1, 1],\n",
       "        [1, 1],\n",
       "        [1, 1],\n",
       "        [1, 1],\n",
       "        [1, 1],\n",
       "        [1, 1],\n",
       "        [1, 1],\n",
       "        [1, 1],\n",
       "        [1, 1],\n",
       "        [1, 1],\n",
       "        [1, 1],\n",
       "        [1, 1],\n",
       "        [1, 1],\n",
       "        [1, 1],\n",
       "        [1, 1],\n",
       "        [1, 1],\n",
       "        [1, 1],\n",
       "        [1, 1],\n",
       "        [1, 1],\n",
       "        [1, 2],\n",
       "        [1, 1],\n",
       "        [1, 1],\n",
       "        [1, 2],\n",
       "        [1, 1],\n",
       "        [1, 1],\n",
       "        [1, 1],\n",
       "        [1, 1],\n",
       "        [1, 1],\n",
       "        [1, 1]], dtype=int32)>, observation=<tf.Tensor: shape=(64, 2, 4), dtype=float32, numpy=\n",
       " array([[[ 3.12439688e-02, -9.02606267e-03,  1.26124665e-04,\n",
       "           2.08699685e-02],\n",
       "         [ 3.10634468e-02,  1.86094075e-01,  5.43524045e-04,\n",
       "          -2.71773160e-01]],\n",
       " \n",
       "        [[-1.08620152e-02,  5.93509555e-01,  1.79208174e-01,\n",
       "           3.33050564e-02],\n",
       "         [ 1.00817601e-03,  7.85669506e-01,  1.79874271e-01,\n",
       "          -1.97913125e-01]],\n",
       " \n",
       "        [[-4.51350771e-02,  2.21058682e-01,  1.18321054e-01,\n",
       "           2.27311715e-01],\n",
       "         [-4.07139026e-02,  2.44620237e-02,  1.22867286e-01,\n",
       "           5.54850161e-01]],\n",
       " \n",
       "        [[ 2.76978817e-02, -8.87097977e-03,  5.24860574e-03,\n",
       "           1.74491368e-02],\n",
       "         [ 2.75204629e-02,  1.86175302e-01,  5.59758814e-03,\n",
       "          -2.73573190e-01]],\n",
       " \n",
       "        [[-6.11852109e-03, -1.41831145e-01, -1.89313665e-02,\n",
       "           2.07878575e-01],\n",
       "         [-8.95514432e-03, -3.36677343e-01, -1.47737944e-02,\n",
       "           4.94530022e-01]],\n",
       " \n",
       "        [[-8.63558203e-02,  4.87819761e-02,  1.02166235e-01,\n",
       "           1.46397706e-02],\n",
       "         [-8.53801817e-02, -1.47645488e-01,  1.02459036e-01,\n",
       "           3.37729245e-01]],\n",
       " \n",
       "        [[ 1.69035807e-01,  1.56461620e+00, -1.35786697e-01,\n",
       "          -1.92856181e+00],\n",
       "         [ 2.00328127e-01,  1.37118602e+00, -1.74357936e-01,\n",
       "          -1.68088591e+00]],\n",
       " \n",
       "        [[ 1.40670642e-01,  5.69588721e-01,  1.83586955e-01,\n",
       "           5.69433212e-01],\n",
       "         [ 1.52062416e-01,  7.61725724e-01,  1.94975615e-01,\n",
       "           3.39742780e-01]],\n",
       " \n",
       "        [[ 3.10634468e-02,  1.86094075e-01,  5.43524045e-04,\n",
       "          -2.71773160e-01],\n",
       "         [ 3.47853303e-02,  3.81208271e-01, -4.89193900e-03,\n",
       "          -5.64284623e-01]],\n",
       " \n",
       "        [[-1.08620152e-02,  5.93509555e-01,  1.79208174e-01,\n",
       "           3.33050564e-02],\n",
       "         [ 1.00817601e-03,  7.85669506e-01,  1.79874271e-01,\n",
       "          -1.97913125e-01]],\n",
       " \n",
       "        [[ 7.52629861e-02,  1.17124104e+00, -3.30863595e-02,\n",
       "          -1.26114810e+00],\n",
       "         [ 9.86878052e-02,  9.76557434e-01, -5.83093204e-02,\n",
       "          -9.79008257e-01]],\n",
       " \n",
       "        [[ 1.33128434e-01,  3.77110034e-01,  1.67484954e-01,\n",
       "           8.05100560e-01],\n",
       "         [ 1.40670642e-01,  5.69588721e-01,  1.83586955e-01,\n",
       "           5.69433212e-01]],\n",
       " \n",
       "        [[ 1.27406965e-03, -1.45284876e-01, -3.56075615e-02,\n",
       "           2.84230977e-01],\n",
       "         [-1.63162802e-03,  5.03263548e-02, -2.99229417e-02,\n",
       "          -1.94662940e-02]],\n",
       " \n",
       "        [[ 1.67296931e-01,  5.64441562e-01,  2.01770484e-01,\n",
       "           6.87022328e-01],\n",
       "         [ 1.78585768e-01,  3.67175788e-01,  2.15510920e-01,\n",
       "           1.03583694e+00]],\n",
       " \n",
       "        [[-6.60308674e-02, -5.32755911e-01,  6.96686134e-02,\n",
       "           8.09760988e-01],\n",
       "         [-7.66859874e-02, -3.38654190e-01,  8.58638287e-02,\n",
       "           5.39780676e-01]],\n",
       " \n",
       "        [[-8.08499530e-02, -1.75703511e-01,  6.90260231e-02,\n",
       "           3.71655554e-01],\n",
       "         [-8.43640268e-02,  1.83733925e-02,  7.64591396e-02,\n",
       "           1.01510994e-01]],\n",
       " \n",
       "        [[ 1.69035807e-01,  1.56461620e+00, -1.35786697e-01,\n",
       "          -1.92856181e+00],\n",
       "         [ 2.00328127e-01,  1.37118602e+00, -1.74357936e-01,\n",
       "          -1.68088591e+00]],\n",
       " \n",
       "        [[-8.08499530e-02, -1.75703511e-01,  6.90260231e-02,\n",
       "           3.71655554e-01],\n",
       "         [-8.43640268e-02,  1.83733925e-02,  7.64591396e-02,\n",
       "           1.01510994e-01]],\n",
       " \n",
       "        [[ 3.48302233e-03, -1.42726138e-01, -3.36777195e-02,\n",
       "           2.27722645e-01],\n",
       "         [ 6.28499547e-04, -3.37351024e-01, -2.91232672e-02,\n",
       "           5.09595037e-01]],\n",
       " \n",
       "        [[-2.97332406e-02, -5.62740445e-01, -1.64176226e-02,\n",
       "           8.85777712e-01],\n",
       "         [-4.09880504e-02, -3.67399514e-01,  1.29793142e-03,\n",
       "           5.87979257e-01]],\n",
       " \n",
       "        [[-3.43604982e-02,  2.00452149e-01,  6.78482354e-02,\n",
       "           9.64702442e-02],\n",
       "         [-3.03514544e-02,  3.94539386e-01,  6.97776452e-02,\n",
       "          -1.74058691e-01]],\n",
       " \n",
       "        [[-5.34887016e-02,  4.17681307e-01,  1.20336711e-01,\n",
       "          -1.00782990e-01],\n",
       "         [-4.51350771e-02,  2.21058682e-01,  1.18321054e-01,\n",
       "           2.27311715e-01]],\n",
       " \n",
       "        [[ 2.76978817e-02, -8.87097977e-03,  5.24860574e-03,\n",
       "           1.74491368e-02],\n",
       "         [ 2.75204629e-02,  1.86175302e-01,  5.59758814e-03,\n",
       "          -2.73573190e-01]],\n",
       " \n",
       "        [[ 3.19560878e-02, -8.90365057e-03, -1.32348097e-03,\n",
       "           1.81696340e-02],\n",
       "         [ 3.17780152e-02, -2.04006597e-01, -9.60088277e-04,\n",
       "           3.10434699e-01]],\n",
       " \n",
       "        [[-6.11852109e-03, -1.41831145e-01, -1.89313665e-02,\n",
       "           2.07878575e-01],\n",
       "         [-8.95514432e-03, -3.36677343e-01, -1.47737944e-02,\n",
       "           4.94530022e-01]],\n",
       " \n",
       "        [[-8.63558203e-02,  4.87819761e-02,  1.02166235e-01,\n",
       "           1.46397706e-02],\n",
       "         [-8.53801817e-02, -1.47645488e-01,  1.02459036e-01,\n",
       "           3.37729245e-01]],\n",
       " \n",
       "        [[ 2.27751851e-01,  1.56784689e+00, -2.07975656e-01,\n",
       "          -2.02240658e+00],\n",
       "         [ 2.59108782e-01,  1.76442909e+00, -2.48423785e-01,\n",
       "          -2.37163043e+00]],\n",
       " \n",
       "        [[ 3.10634468e-02,  1.86094075e-01,  5.43524045e-04,\n",
       "          -2.71773160e-01],\n",
       "         [ 3.47853303e-02,  3.81208271e-01, -4.89193900e-03,\n",
       "          -5.64284623e-01]],\n",
       " \n",
       "        [[-6.11852109e-03, -1.41831145e-01, -1.89313665e-02,\n",
       "           2.07878575e-01],\n",
       "         [-8.95514432e-03, -3.36677343e-01, -1.47737944e-02,\n",
       "           4.94530022e-01]],\n",
       " \n",
       "        [[-7.97501355e-02,  4.06236827e-01,  7.51672909e-02,\n",
       "          -4.33029443e-01],\n",
       "         [-7.16253966e-02,  2.10135594e-01,  6.65066987e-02,\n",
       "          -1.17629796e-01]],\n",
       " \n",
       "        [[-8.63558203e-02,  4.87819761e-02,  1.02166235e-01,\n",
       "           1.46397706e-02],\n",
       "         [-8.53801817e-02, -1.47645488e-01,  1.02459036e-01,\n",
       "           3.37729245e-01]],\n",
       " \n",
       "        [[-6.25100918e-04, -1.44353971e-01, -3.03122662e-02,\n",
       "           2.63627440e-01],\n",
       "         [-3.51218041e-03,  5.11872359e-02, -2.50397176e-02,\n",
       "          -3.84600721e-02]],\n",
       " \n",
       "        [[-6.63978830e-02,  4.21041876e-01,  1.20792210e-01,\n",
       "          -1.75494939e-01],\n",
       "         [-5.79770431e-02,  2.24416927e-01,  1.17282309e-01,\n",
       "           1.52720064e-01]],\n",
       " \n",
       "        [[-5.34887016e-02,  4.17681307e-01,  1.20336711e-01,\n",
       "          -1.00782990e-01],\n",
       "         [-4.51350771e-02,  2.21058682e-01,  1.18321054e-01,\n",
       "           2.27311715e-01]],\n",
       " \n",
       "        [[-1.08620152e-02,  5.93509555e-01,  1.79208174e-01,\n",
       "           3.33050564e-02],\n",
       "         [ 1.00817601e-03,  7.85669506e-01,  1.79874271e-01,\n",
       "          -1.97913125e-01]],\n",
       " \n",
       "        [[-6.27297014e-02,  2.06358507e-01,  7.12665245e-02,\n",
       "          -3.41254510e-02],\n",
       "         [-5.86025305e-02,  4.00389940e-01,  7.05840141e-02,\n",
       "          -3.03499192e-01]],\n",
       " \n",
       "        [[ 8.68653655e-02,  9.68042433e-01,  1.59729689e-01,\n",
       "          -2.08892375e-01],\n",
       "         [ 1.06226213e-01,  7.71039963e-01,  1.55551836e-01,\n",
       "           1.29610822e-01]],\n",
       " \n",
       "        [[-8.83330926e-02, -3.44064862e-01,  1.09213620e-01,\n",
       "           6.60883427e-01],\n",
       "         [-9.52143893e-02, -1.50618479e-01,  1.22431286e-01,\n",
       "           4.04487669e-01]],\n",
       " \n",
       "        [[-4.08532955e-02, -5.31664371e-01,  3.22404802e-02,\n",
       "           7.84378588e-01],\n",
       "         [-5.14865816e-02, -7.27214158e-01,  4.79280539e-02,\n",
       "           1.08702791e+00]],\n",
       " \n",
       "        [[ 1.21647015e-01,  5.74071407e-01,  1.58144057e-01,\n",
       "           4.67044383e-01],\n",
       "         [ 1.33128434e-01,  3.77110034e-01,  1.67484954e-01,\n",
       "           8.05100560e-01]],\n",
       " \n",
       "        [[-4.02246639e-02, -1.72151446e-01,  1.33964285e-01,\n",
       "           8.83579195e-01],\n",
       "         [-4.36676927e-02,  2.09218785e-02,  1.51635870e-01,\n",
       "           6.35831833e-01]],\n",
       " \n",
       "        [[ 1.69035807e-01,  1.56461620e+00, -1.35786697e-01,\n",
       "          -1.92856181e+00],\n",
       "         [ 2.00328127e-01,  1.37118602e+00, -1.74357936e-01,\n",
       "          -1.68088591e+00]],\n",
       " \n",
       "        [[ 1.33128434e-01,  3.77110034e-01,  1.67484954e-01,\n",
       "           8.05100560e-01],\n",
       "         [ 1.40670642e-01,  5.69588721e-01,  1.83586955e-01,\n",
       "           5.69433212e-01]],\n",
       " \n",
       "        [[-6.69387802e-02, -1.72918111e-01,  4.25293557e-02,\n",
       "           3.09657812e-01],\n",
       "         [-7.03971460e-02,  2.15728935e-02,  4.87225130e-02,\n",
       "           3.06849536e-02]],\n",
       " \n",
       "        [[ 4.79362123e-02,  1.36633861e+00, -2.02237046e-03,\n",
       "          -1.55319941e+00],\n",
       "         [ 7.52629861e-02,  1.17124104e+00, -3.30863595e-02,\n",
       "          -1.26114810e+00]],\n",
       " \n",
       "        [[-5.05947322e-02,  2.04336762e-01,  6.45140260e-02,\n",
       "           1.05827879e-02],\n",
       "         [-4.65079993e-02,  8.35176278e-03,  6.47256821e-02,\n",
       "           3.22902709e-01]],\n",
       " \n",
       "        [[-8.72487053e-02,  4.24799174e-01,  1.36111364e-01,\n",
       "          -2.59556621e-01],\n",
       "         [-7.87527189e-02,  6.17742121e-01,  1.30920231e-01,\n",
       "          -5.06400943e-01]],\n",
       " \n",
       "        [[-5.95868342e-02, -3.67597461e-01,  3.06789316e-02,\n",
       "           5.92521250e-01],\n",
       "         [-6.69387802e-02, -1.72918111e-01,  4.25293557e-02,\n",
       "           3.09657812e-01]],\n",
       " \n",
       "        [[-7.03971460e-02,  2.15728935e-02,  4.87225130e-02,\n",
       "           3.06849536e-02],\n",
       "         [-6.99656829e-02, -1.74212679e-01,  4.93362099e-02,\n",
       "           3.38333547e-01]],\n",
       " \n",
       "        [[ 2.76978817e-02, -8.87097977e-03,  5.24860574e-03,\n",
       "           1.74491368e-02],\n",
       "         [ 2.75204629e-02,  1.86175302e-01,  5.59758814e-03,\n",
       "          -2.73573190e-01]],\n",
       " \n",
       "        [[-1.06887287e-02,  7.82721221e-01,  5.74176945e-02,\n",
       "          -7.15008557e-01],\n",
       "         [ 4.96569602e-03,  9.77003336e-01,  4.31175232e-02,\n",
       "          -9.89079952e-01]],\n",
       " \n",
       "        [[-1.89042892e-02, -1.73419565e-01, -3.48757021e-02,\n",
       "           3.20710123e-01],\n",
       "         [-2.23726816e-02, -3.68027955e-01, -2.84614991e-02,\n",
       "           6.02193773e-01]],\n",
       " \n",
       "        [[-6.69387802e-02, -1.72918111e-01,  4.25293557e-02,\n",
       "           3.09657812e-01],\n",
       "         [-7.03971460e-02,  2.15728935e-02,  4.87225130e-02,\n",
       "           3.06849536e-02]],\n",
       " \n",
       "        [[-4.32492532e-02,  2.13640153e-01,  1.64352506e-01,\n",
       "           3.94481838e-01],\n",
       "         [-3.89764532e-02,  4.06095147e-01,  1.72242150e-01,\n",
       "           1.57791883e-01]],\n",
       " \n",
       "        [[ 1.67296931e-01,  5.64441562e-01,  2.01770484e-01,\n",
       "           6.87022328e-01],\n",
       "         [ 1.78585768e-01,  3.67175788e-01,  2.15510920e-01,\n",
       "           1.03583694e+00]],\n",
       " \n",
       "        [[-5.34887016e-02,  4.17681307e-01,  1.20336711e-01,\n",
       "          -1.00782990e-01],\n",
       "         [-4.51350771e-02,  2.21058682e-01,  1.18321054e-01,\n",
       "           2.27311715e-01]],\n",
       " \n",
       "        [[ 6.35633767e-02,  1.16509926e+00,  1.70732319e-01,\n",
       "          -5.50131738e-01],\n",
       "         [ 8.68653655e-02,  9.68042433e-01,  1.59729689e-01,\n",
       "          -2.08892375e-01]],\n",
       " \n",
       "        [[ 2.27751851e-01,  1.56784689e+00, -2.07975656e-01,\n",
       "          -2.02240658e+00],\n",
       "         [ 2.59108782e-01,  1.76442909e+00, -2.48423785e-01,\n",
       "          -2.37163043e+00]],\n",
       " \n",
       "        [[-4.08532955e-02, -5.31664371e-01,  3.22404802e-02,\n",
       "           7.84378588e-01],\n",
       "         [-5.14865816e-02, -7.27214158e-01,  4.79280539e-02,\n",
       "           1.08702791e+00]],\n",
       " \n",
       "        [[-4.63409610e-02,  2.02495188e-01,  7.11837411e-02,\n",
       "           5.13134152e-02],\n",
       "         [-4.22910601e-02,  3.96528065e-01,  7.22100064e-02,\n",
       "          -2.18088478e-01]],\n",
       " \n",
       "        [[ 2.76978817e-02, -8.87097977e-03,  5.24860574e-03,\n",
       "           1.74491368e-02],\n",
       "         [ 2.75204629e-02,  1.86175302e-01,  5.59758814e-03,\n",
       "          -2.73573190e-01]],\n",
       " \n",
       "        [[-6.11852109e-03, -1.41831145e-01, -1.89313665e-02,\n",
       "           2.07878575e-01],\n",
       "         [-8.95514432e-03, -3.36677343e-01, -1.47737944e-02,\n",
       "           4.94530022e-01]],\n",
       " \n",
       "        [[ 1.06226213e-01,  7.71039963e-01,  1.55551836e-01,\n",
       "           1.29610822e-01],\n",
       "         [ 1.21647015e-01,  5.74071407e-01,  1.58144057e-01,\n",
       "           4.67044383e-01]],\n",
       " \n",
       "        [[-2.48843571e-03,  2.46659145e-01, -2.58089192e-02,\n",
       "          -3.38936925e-01],\n",
       "         [ 2.44474714e-03,  5.19137606e-02, -3.25876586e-02,\n",
       "          -5.45031168e-02]]], dtype=float32)>, action=<tf.Tensor: shape=(64, 2), dtype=int64, numpy=\n",
       " array([[1, 1],\n",
       "        [1, 0],\n",
       "        [0, 0],\n",
       "        [1, 0],\n",
       "        [0, 0],\n",
       "        [0, 0],\n",
       "        [0, 1],\n",
       "        [1, 0],\n",
       "        [1, 0],\n",
       "        [1, 0],\n",
       "        [0, 1],\n",
       "        [1, 1],\n",
       "        [1, 0],\n",
       "        [0, 1],\n",
       "        [1, 1],\n",
       "        [1, 1],\n",
       "        [0, 1],\n",
       "        [1, 1],\n",
       "        [0, 1],\n",
       "        [1, 0],\n",
       "        [1, 1],\n",
       "        [0, 0],\n",
       "        [1, 0],\n",
       "        [0, 1],\n",
       "        [0, 0],\n",
       "        [0, 0],\n",
       "        [1, 0],\n",
       "        [1, 0],\n",
       "        [0, 0],\n",
       "        [0, 0],\n",
       "        [0, 0],\n",
       "        [1, 1],\n",
       "        [0, 1],\n",
       "        [0, 0],\n",
       "        [1, 0],\n",
       "        [1, 0],\n",
       "        [0, 0],\n",
       "        [1, 1],\n",
       "        [0, 1],\n",
       "        [0, 1],\n",
       "        [1, 1],\n",
       "        [0, 1],\n",
       "        [1, 1],\n",
       "        [1, 0],\n",
       "        [0, 0],\n",
       "        [0, 1],\n",
       "        [1, 0],\n",
       "        [1, 1],\n",
       "        [0, 0],\n",
       "        [1, 0],\n",
       "        [1, 1],\n",
       "        [0, 0],\n",
       "        [1, 0],\n",
       "        [1, 1],\n",
       "        [0, 1],\n",
       "        [0, 0],\n",
       "        [0, 0],\n",
       "        [1, 0],\n",
       "        [0, 1],\n",
       "        [1, 0],\n",
       "        [1, 0],\n",
       "        [0, 0],\n",
       "        [0, 0],\n",
       "        [0, 0]])>, policy_info=(), next_step_type=<tf.Tensor: shape=(64, 2), dtype=int32, numpy=\n",
       " array([[1, 1],\n",
       "        [1, 1],\n",
       "        [1, 1],\n",
       "        [1, 1],\n",
       "        [1, 1],\n",
       "        [1, 1],\n",
       "        [1, 1],\n",
       "        [1, 1],\n",
       "        [1, 1],\n",
       "        [1, 1],\n",
       "        [1, 1],\n",
       "        [1, 1],\n",
       "        [1, 1],\n",
       "        [2, 0],\n",
       "        [1, 1],\n",
       "        [1, 1],\n",
       "        [1, 1],\n",
       "        [1, 1],\n",
       "        [1, 1],\n",
       "        [1, 1],\n",
       "        [1, 1],\n",
       "        [1, 1],\n",
       "        [1, 1],\n",
       "        [1, 1],\n",
       "        [1, 1],\n",
       "        [1, 1],\n",
       "        [2, 0],\n",
       "        [1, 1],\n",
       "        [1, 1],\n",
       "        [1, 1],\n",
       "        [1, 1],\n",
       "        [1, 1],\n",
       "        [1, 1],\n",
       "        [1, 1],\n",
       "        [1, 1],\n",
       "        [1, 1],\n",
       "        [1, 1],\n",
       "        [1, 1],\n",
       "        [1, 1],\n",
       "        [1, 1],\n",
       "        [1, 1],\n",
       "        [1, 1],\n",
       "        [1, 1],\n",
       "        [1, 1],\n",
       "        [1, 1],\n",
       "        [1, 1],\n",
       "        [1, 1],\n",
       "        [1, 1],\n",
       "        [1, 1],\n",
       "        [1, 1],\n",
       "        [1, 1],\n",
       "        [1, 1],\n",
       "        [1, 1],\n",
       "        [1, 1],\n",
       "        [2, 0],\n",
       "        [1, 1],\n",
       "        [1, 1],\n",
       "        [2, 0],\n",
       "        [1, 1],\n",
       "        [1, 1],\n",
       "        [1, 1],\n",
       "        [1, 1],\n",
       "        [1, 1],\n",
       "        [1, 1]], dtype=int32)>, reward=<tf.Tensor: shape=(64, 2), dtype=float32, numpy=\n",
       " array([[1., 1.],\n",
       "        [1., 1.],\n",
       "        [1., 1.],\n",
       "        [1., 1.],\n",
       "        [1., 1.],\n",
       "        [1., 1.],\n",
       "        [1., 1.],\n",
       "        [1., 1.],\n",
       "        [1., 1.],\n",
       "        [1., 1.],\n",
       "        [1., 1.],\n",
       "        [1., 1.],\n",
       "        [1., 1.],\n",
       "        [1., 0.],\n",
       "        [1., 1.],\n",
       "        [1., 1.],\n",
       "        [1., 1.],\n",
       "        [1., 1.],\n",
       "        [1., 1.],\n",
       "        [1., 1.],\n",
       "        [1., 1.],\n",
       "        [1., 1.],\n",
       "        [1., 1.],\n",
       "        [1., 1.],\n",
       "        [1., 1.],\n",
       "        [1., 1.],\n",
       "        [1., 0.],\n",
       "        [1., 1.],\n",
       "        [1., 1.],\n",
       "        [1., 1.],\n",
       "        [1., 1.],\n",
       "        [1., 1.],\n",
       "        [1., 1.],\n",
       "        [1., 1.],\n",
       "        [1., 1.],\n",
       "        [1., 1.],\n",
       "        [1., 1.],\n",
       "        [1., 1.],\n",
       "        [1., 1.],\n",
       "        [1., 1.],\n",
       "        [1., 1.],\n",
       "        [1., 1.],\n",
       "        [1., 1.],\n",
       "        [1., 1.],\n",
       "        [1., 1.],\n",
       "        [1., 1.],\n",
       "        [1., 1.],\n",
       "        [1., 1.],\n",
       "        [1., 1.],\n",
       "        [1., 1.],\n",
       "        [1., 1.],\n",
       "        [1., 1.],\n",
       "        [1., 1.],\n",
       "        [1., 1.],\n",
       "        [1., 0.],\n",
       "        [1., 1.],\n",
       "        [1., 1.],\n",
       "        [1., 0.],\n",
       "        [1., 1.],\n",
       "        [1., 1.],\n",
       "        [1., 1.],\n",
       "        [1., 1.],\n",
       "        [1., 1.],\n",
       "        [1., 1.]], dtype=float32)>, discount=<tf.Tensor: shape=(64, 2), dtype=float32, numpy=\n",
       " array([[1., 1.],\n",
       "        [1., 1.],\n",
       "        [1., 1.],\n",
       "        [1., 1.],\n",
       "        [1., 1.],\n",
       "        [1., 1.],\n",
       "        [1., 1.],\n",
       "        [1., 1.],\n",
       "        [1., 1.],\n",
       "        [1., 1.],\n",
       "        [1., 1.],\n",
       "        [1., 1.],\n",
       "        [1., 1.],\n",
       "        [0., 1.],\n",
       "        [1., 1.],\n",
       "        [1., 1.],\n",
       "        [1., 1.],\n",
       "        [1., 1.],\n",
       "        [1., 1.],\n",
       "        [1., 1.],\n",
       "        [1., 1.],\n",
       "        [1., 1.],\n",
       "        [1., 1.],\n",
       "        [1., 1.],\n",
       "        [1., 1.],\n",
       "        [1., 1.],\n",
       "        [0., 1.],\n",
       "        [1., 1.],\n",
       "        [1., 1.],\n",
       "        [1., 1.],\n",
       "        [1., 1.],\n",
       "        [1., 1.],\n",
       "        [1., 1.],\n",
       "        [1., 1.],\n",
       "        [1., 1.],\n",
       "        [1., 1.],\n",
       "        [1., 1.],\n",
       "        [1., 1.],\n",
       "        [1., 1.],\n",
       "        [1., 1.],\n",
       "        [1., 1.],\n",
       "        [1., 1.],\n",
       "        [1., 1.],\n",
       "        [1., 1.],\n",
       "        [1., 1.],\n",
       "        [1., 1.],\n",
       "        [1., 1.],\n",
       "        [1., 1.],\n",
       "        [1., 1.],\n",
       "        [1., 1.],\n",
       "        [1., 1.],\n",
       "        [1., 1.],\n",
       "        [1., 1.],\n",
       "        [1., 1.],\n",
       "        [0., 1.],\n",
       "        [1., 1.],\n",
       "        [1., 1.],\n",
       "        [0., 1.],\n",
       "        [1., 1.],\n",
       "        [1., 1.],\n",
       "        [1., 1.],\n",
       "        [1., 1.],\n",
       "        [1., 1.],\n",
       "        [1., 1.]], dtype=float32)>),\n",
       " BufferInfo(ids=<tf.Tensor: shape=(64, 2), dtype=int64, numpy=\n",
       " array([[97, 98],\n",
       "        [39, 40],\n",
       "        [31, 32],\n",
       "        [95, 96],\n",
       "        [ 9, 10],\n",
       "        [18, 19],\n",
       "        [89, 90],\n",
       "        [49, 50],\n",
       "        [98, 99],\n",
       "        [39, 40],\n",
       "        [85, 86],\n",
       "        [48, 49],\n",
       "        [ 1,  2],\n",
       "        [51, 52],\n",
       "        [15, 16],\n",
       "        [64, 65],\n",
       "        [89, 90],\n",
       "        [64, 65],\n",
       "        [ 7,  8],\n",
       "        [56, 57],\n",
       "        [78, 79],\n",
       "        [30, 31],\n",
       "        [95, 96],\n",
       "        [93, 94],\n",
       "        [ 9, 10],\n",
       "        [18, 19],\n",
       "        [91, 92],\n",
       "        [98, 99],\n",
       "        [ 9, 10],\n",
       "        [67, 68],\n",
       "        [18, 19],\n",
       "        [ 3,  4],\n",
       "        [28, 29],\n",
       "        [30, 31],\n",
       "        [39, 40],\n",
       "        [72, 73],\n",
       "        [45, 46],\n",
       "        [20, 21],\n",
       "        [13, 14],\n",
       "        [47, 48],\n",
       "        [33, 34],\n",
       "        [89, 90],\n",
       "        [48, 49],\n",
       "        [60, 61],\n",
       "        [84, 85],\n",
       "        [74, 75],\n",
       "        [26, 27],\n",
       "        [59, 60],\n",
       "        [61, 62],\n",
       "        [95, 96],\n",
       "        [81, 82],\n",
       "        [54, 55],\n",
       "        [60, 61],\n",
       "        [35, 36],\n",
       "        [51, 52],\n",
       "        [30, 31],\n",
       "        [44, 45],\n",
       "        [91, 92],\n",
       "        [13, 14],\n",
       "        [76, 77],\n",
       "        [95, 96],\n",
       "        [ 9, 10],\n",
       "        [46, 47],\n",
       "        [ 5,  6]])>, probabilities=<tf.Tensor: shape=(64,), dtype=float32, numpy=\n",
       " array([0.01010101, 0.01010101, 0.01010101, 0.01010101, 0.01010101,\n",
       "        0.01010101, 0.01010101, 0.01010101, 0.01010101, 0.01010101,\n",
       "        0.01010101, 0.01010101, 0.01010101, 0.01010101, 0.01010101,\n",
       "        0.01010101, 0.01010101, 0.01010101, 0.01010101, 0.01010101,\n",
       "        0.01010101, 0.01010101, 0.01010101, 0.01010101, 0.01010101,\n",
       "        0.01010101, 0.01010101, 0.01010101, 0.01010101, 0.01010101,\n",
       "        0.01010101, 0.01010101, 0.01010101, 0.01010101, 0.01010101,\n",
       "        0.01010101, 0.01010101, 0.01010101, 0.01010101, 0.01010101,\n",
       "        0.01010101, 0.01010101, 0.01010101, 0.01010101, 0.01010101,\n",
       "        0.01010101, 0.01010101, 0.01010101, 0.01010101, 0.01010101,\n",
       "        0.01010101, 0.01010101, 0.01010101, 0.01010101, 0.01010101,\n",
       "        0.01010101, 0.01010101, 0.01010101, 0.01010101, 0.01010101,\n",
       "        0.01010101, 0.01010101, 0.01010101, 0.01010101], dtype=float32)>))"
      ]
     },
     "execution_count": 73,
     "metadata": {},
     "output_type": "execute_result"
    }
   ],
   "source": [
    "## Training the agent\n",
    "\n",
    "Two things must happen during the training loop:\n",
    "\n",
    "-   collect data from the environment\n",
    "-   use that data to train the agent's neural network(s)\n",
    "\n",
    "This example also periodicially evaluates the policy and prints the current score.\n",
    "\n",
    "The following will take ~5 minutes to run."
   ]
  },
  {
   "cell_type": "markdown",
   "metadata": {
    "colab_type": "text",
    "id": "hBc9lj9VWWtZ"
   },
   "source": [
    "## Training the agent\n",
    "\n",
    "Two things must happen during the training loop:\n",
    "\n",
    "-   collect data from the environment\n",
    "-   use that data to train the agent's neural network(s)\n",
    "\n",
    "This example also periodicially evaluates the policy and prints the current score.\n",
    "\n",
    "The following will take ~5 minutes to run."
   ]
  },
  {
   "cell_type": "code",
   "execution_count": 74,
   "metadata": {
    "colab": {},
    "colab_type": "code",
    "id": "0pTbJ3PeyF-u"
   },
   "outputs": [
    {
     "name": "stdout",
     "output_type": "stream",
     "text": [
      "step = 200: loss = 9.51270866394043\n",
      "step = 400: loss = 55.49365234375\n",
      "step = 600: loss = 224.05384826660156\n",
      "step = 800: loss = 690.8870849609375\n",
      "step = 1000: loss = 350.9292297363281\n",
      "step = 1000: Average Return = 71.80000305175781\n",
      "step = 1200: loss = 369.00665283203125\n",
      "step = 1400: loss = 1172.4208984375\n",
      "step = 1600: loss = 700.744873046875\n",
      "step = 1800: loss = 1208.353759765625\n",
      "step = 2000: loss = 572.6317749023438\n",
      "step = 2000: Average Return = 59.5\n",
      "step = 2200: loss = 240.13369750976562\n",
      "step = 2400: loss = 242.74288940429688\n",
      "step = 2600: loss = 281.0684814453125\n",
      "step = 2800: loss = 107.84762573242188\n",
      "step = 3000: loss = 8.435430526733398\n",
      "step = 3000: Average Return = 36.70000076293945\n",
      "step = 3200: loss = 17.11659812927246\n",
      "step = 3400: loss = 60.98676300048828\n",
      "step = 3600: loss = 9.132905960083008\n",
      "step = 3800: loss = 40.25614547729492\n",
      "step = 4000: loss = 111.74263000488281\n",
      "step = 4000: Average Return = 26.600000381469727\n",
      "step = 4200: loss = 27.460641860961914\n",
      "step = 4400: loss = 223.2392120361328\n",
      "step = 4600: loss = 260.2898254394531\n",
      "step = 4800: loss = 304.3631591796875\n",
      "step = 5000: loss = 44.204158782958984\n",
      "step = 5000: Average Return = 14.100000381469727\n",
      "step = 5200: loss = 14.053756713867188\n",
      "step = 5400: loss = 363.933349609375\n",
      "step = 5600: loss = 48.858943939208984\n",
      "step = 5800: loss = 13.071617126464844\n",
      "step = 6000: loss = 33.118446350097656\n",
      "step = 6000: Average Return = 21.100000381469727\n",
      "step = 6200: loss = 145.70375061035156\n",
      "step = 6400: loss = 198.1544952392578\n",
      "step = 6600: loss = 13.455835342407227\n",
      "step = 6800: loss = 16.356388092041016\n",
      "step = 7000: loss = 17.70077133178711\n",
      "step = 7000: Average Return = 18.200000762939453\n",
      "step = 7200: loss = 16.220701217651367\n",
      "step = 7400: loss = 82.22499084472656\n",
      "step = 7600: loss = 79.08733367919922\n",
      "step = 7800: loss = 62.358673095703125\n",
      "step = 8000: loss = 148.281494140625\n",
      "step = 8000: Average Return = 10.800000190734863\n",
      "step = 8200: loss = 126.50173950195312\n",
      "step = 8400: loss = 70.96471405029297\n",
      "step = 8600: loss = 51.48246765136719\n",
      "step = 8800: loss = 38.053009033203125\n",
      "step = 9000: loss = 10.449752807617188\n",
      "step = 9000: Average Return = 26.299999237060547\n",
      "step = 9200: loss = 41.7943229675293\n",
      "step = 9400: loss = 5.827758312225342\n",
      "step = 9600: loss = 10.309011459350586\n",
      "step = 9800: loss = 31.607303619384766\n",
      "step = 10000: loss = 40.871238708496094\n",
      "step = 10000: Average Return = 41.29999923706055\n",
      "step = 10200: loss = 2.9739222526550293\n",
      "step = 10400: loss = 105.76555633544922\n",
      "step = 10600: loss = 23.863412857055664\n",
      "step = 10800: loss = 12.492362976074219\n",
      "step = 11000: loss = 30.6679630279541\n",
      "step = 11000: Average Return = 56.29999923706055\n",
      "step = 11200: loss = 30.647825241088867\n",
      "step = 11400: loss = 128.80160522460938\n",
      "step = 11600: loss = 26.60112953186035\n",
      "step = 11800: loss = 10.748285293579102\n",
      "step = 12000: loss = 15.476947784423828\n",
      "step = 12000: Average Return = 58.5\n",
      "step = 12200: loss = 83.47167205810547\n",
      "step = 12400: loss = 20.502483367919922\n",
      "step = 12600: loss = 43.44831848144531\n",
      "step = 12800: loss = 5.263469696044922\n",
      "step = 13000: loss = 67.27947235107422\n",
      "step = 13000: Average Return = 76.69999694824219\n",
      "step = 13200: loss = 59.42539596557617\n",
      "step = 13400: loss = 31.170316696166992\n",
      "step = 13600: loss = 34.14439392089844\n",
      "step = 13800: loss = 57.620201110839844\n",
      "step = 14000: loss = 155.67202758789062\n",
      "step = 14000: Average Return = 99.5999984741211\n",
      "step = 14200: loss = 125.57109069824219\n",
      "step = 14400: loss = 86.90264892578125\n",
      "step = 14600: loss = 42.74063491821289\n",
      "step = 14800: loss = 108.45902252197266\n",
      "step = 15000: loss = 64.20307922363281\n",
      "step = 15000: Average Return = 109.5999984741211\n",
      "step = 15200: loss = 8.601226806640625\n",
      "step = 15400: loss = 107.47372436523438\n",
      "step = 15600: loss = 155.27378845214844\n",
      "step = 15800: loss = 111.48868560791016\n",
      "step = 16000: loss = 10.121623992919922\n",
      "step = 16000: Average Return = 100.69999694824219\n",
      "step = 16200: loss = 206.93072509765625\n",
      "step = 16400: loss = 108.70984649658203\n",
      "step = 16600: loss = 42.52703094482422\n",
      "step = 16800: loss = 231.29954528808594\n",
      "step = 17000: loss = 113.54142761230469\n",
      "step = 17000: Average Return = 140.8000030517578\n",
      "step = 17200: loss = 312.0085144042969\n",
      "step = 17400: loss = 92.85309600830078\n",
      "step = 17600: loss = 129.52496337890625\n",
      "step = 17800: loss = 178.97901916503906\n",
      "step = 18000: loss = 102.97889709472656\n",
      "step = 18000: Average Return = 166.10000610351562\n",
      "step = 18200: loss = 202.66448974609375\n",
      "step = 18400: loss = 131.3145294189453\n",
      "step = 18600: loss = 118.3231201171875\n",
      "step = 18800: loss = 62.153228759765625\n",
      "step = 19000: loss = 220.19390869140625\n",
      "step = 19000: Average Return = 167.39999389648438\n",
      "step = 19200: loss = 565.6783447265625\n",
      "step = 19400: loss = 180.95388793945312\n",
      "step = 19600: loss = 160.0402374267578\n",
      "step = 19800: loss = 151.54991149902344\n",
      "step = 20000: loss = 273.6603088378906\n",
      "step = 20000: Average Return = 200.0\n"
     ]
    }
   ],
   "source": [
    "#@test {\"skip\": true}\n",
    "try:\n",
    "  %%time\n",
    "except:\n",
    "  pass\n",
    "\n",
    "# (Optional) Optimize by wrapping some of the code in a graph using TF function.\n",
    "agent.train = common.function(agent.train)\n",
    "\n",
    "# Reset the train step\n",
    "agent.train_step_counter.assign(0)\n",
    "\n",
    "# Evaluate the agent's policy once before training.\n",
    "avg_return = compute_avg_return(eval_env, agent.policy, num_eval_episodes)\n",
    "returns = [avg_return]\n",
    "\n",
    "for _ in range(num_iterations):\n",
    "\n",
    "  # Collect a few steps using collect_policy and save to the replay buffer.\n",
    "  for _ in range(collect_steps_per_iteration):\n",
    "    collect_step(train_env, agent.collect_policy, replay_buffer)\n",
    "\n",
    "  # Sample a batch of data from the buffer and update the agent's network.\n",
    "  experience, unused_info = next(iterator)\n",
    "  train_loss = agent.train(experience).loss\n",
    "\n",
    "  step = agent.train_step_counter.numpy()\n",
    "\n",
    "  if step % log_interval == 0:\n",
    "    print('step = {0}: loss = {1}'.format(step, train_loss))\n",
    "\n",
    "  if step % eval_interval == 0:\n",
    "    avg_return = compute_avg_return(eval_env, agent.policy, num_eval_episodes)\n",
    "    print('step = {0}: Average Return = {1}'.format(step, avg_return))\n",
    "    returns.append(avg_return)"
   ]
  },
  {
   "cell_type": "markdown",
   "metadata": {
    "colab_type": "text",
    "id": "68jNcA_TiJDq"
   },
   "source": [
    "## Visualization\n",
    "\n"
   ]
  },
  {
   "cell_type": "markdown",
   "metadata": {
    "colab_type": "text",
    "id": "aO-LWCdbbOIC"
   },
   "source": [
    "### Plots\n",
    "\n",
    "Use `matplotlib.pyplot` to chart how the policy improved during training.\n",
    "\n",
    "One iteration of `Cartpole-v0` consists of 200 time steps. The environment gives a reward of `+1` for each step the pole stays up, so the maximum return for one episode is 200. The charts shows the return increasing towards that maximum each time it is evaluated during training. (It may be a little unstable and not increase monotonically each time.)"
   ]
  },
  {
   "cell_type": "code",
   "execution_count": 75,
   "metadata": {
    "colab": {},
    "colab_type": "code",
    "id": "NxtL1mbOYCVO"
   },
   "outputs": [
    {
     "data": {
      "text/plain": [
       "(-0.1300004005432136, 250)"
      ]
     },
     "execution_count": 75,
     "metadata": {},
     "output_type": "execute_result"
    },
    {
     "data": {
      "image/png": "[encoded data removed]",
      "text/plain": [
       "<Figure size 432x288 with 1 Axes>"
      ]
     },
     "metadata": {
      "needs_background": "light"
     },
     "output_type": "display_data"
    }
   ],
   "source": [
    "#@test {\"skip\": true}\n",
    "\n",
    "iterations = range(0, num_iterations + 1, eval_interval)\n",
    "plt.plot(iterations, returns)\n",
    "plt.ylabel('Average Return')\n",
    "plt.xlabel('Iterations')\n",
    "plt.ylim(top=250)"
   ]
  },
  {
   "cell_type": "markdown",
   "metadata": {
    "colab_type": "text",
    "id": "M7-XpPP99Cy7"
   },
   "source": [
    "### Videos"
   ]
  },
  {
   "cell_type": "markdown",
   "metadata": {
    "colab_type": "text",
    "id": "9pGfGxSH32gn"
   },
   "source": [
    "Charts are nice. But more exciting is seeing an agent actually performing a task in an environment. \n",
    "\n",
    "First, create a function to embed videos in the notebook."
   ]
  },
  {
   "cell_type": "code",
   "execution_count": 77,
   "metadata": {
    "colab": {},
    "colab_type": "code",
    "id": "ULaGr8pvOKbl"
   },
   "outputs": [],
   "source": [
    "def embed_mp4(filename):\n",
    "  \"\"\"Embeds an mp4 file in the notebook.\"\"\"\n",
    "  video = open(filename,'rb').read()\n",
    "  b64 = base64.b64encode(video)\n",
    "  tag = '''\n",
    "  <video width=\"640\" height=\"480\" controls>\n",
    "    <source src=\"data:video/mp4;base64,{0}\" type=\"video/mp4\">\n",
    "  Your browser does not support the video tag.\n",
    "  </video>'''.format(b64.decode())\n",
    "\n",
    "  return IPython.display.HTML(tag)"
   ]
  },
  {
   "cell_type": "markdown",
   "metadata": {
    "colab_type": "text",
    "id": "9c_PH-pX4Pr5"
   },
   "source": [
    "Now iterate through a few episodes of the Cartpole game with the agent. The underlying Python environment (the one \"inside\" the TensorFlow environment wrapper) provides a `render()` method, which outputs an image of the environment state. These can be collected into a video."
   ]
  },
  {
   "cell_type": "code",
   "execution_count": 78,
   "metadata": {
    "colab": {},
    "colab_type": "code",
    "id": "owOVWB158NlF"
   },
   "outputs": [
    {
     "name": "stderr",
     "output_type": "stream",
     "text": [
      "WARNING: Logging before flag parsing goes to stderr.\n",
      "W0810 17:31:51.385576 140625474225984 ffmpeg.py:839] IMAGEIO FFMPEG_WRITER WARNING: input image is not divisible by macro_block_size=16, resizing from (400, 600) to (400, 608) to ensure video compatibility with most codecs and players. To prevent resizing, make your input image divisible by the macro_block_size or set the macro_block_size to None (risking incompatibility). You may also see a FFMPEG warning concerning speedloss due to data not being aligned.\n"
     ]
    },
    {
     "data": {
      "text/html": [
       "\n",
       "  <video width=\"640\" height=\"480\" controls>\n",
       "    <source src=\"data:video/mp4;base64,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\" type=\"video/mp4\">\n",
       "  Your browser does not support the video tag.\n",
       "  </video>"
      ],
      "text/plain": [
       "<IPython.core.display.HTML object>"
      ]
     },
     "execution_count": 78,
     "metadata": {},
     "output_type": "execute_result"
    }
   ],
   "source": [
    "def create_policy_eval_video(policy, filename, num_episodes=5, fps=30):\n",
    "  filename = filename + \".mp4\"\n",
    "  with imageio.get_writer(filename, fps=fps) as video:\n",
    "    for _ in range(num_episodes):\n",
    "      time_step = eval_env.reset()\n",
    "      video.append_data(eval_py_env.render())\n",
    "      while not time_step.is_last():\n",
    "        action_step = policy.action(time_step)\n",
    "        time_step = eval_env.step(action_step.action)\n",
    "        video.append_data(eval_py_env.render())\n",
    "  return embed_mp4(filename)\n",
    "\n",
    "\n",
    "\n",
    "\n",
    "create_policy_eval_video(agent.policy, \"trained-agent\")"
   ]
  },
  {
   "cell_type": "markdown",
   "metadata": {
    "colab_type": "text",
    "id": "povaAOcZygLw"
   },
   "source": [
    "For fun, compare the trained agent (above) to an agent moving randomly. (It does not do as well.)"
   ]
  },
  {
   "cell_type": "code",
   "execution_count": 79,
   "metadata": {
    "colab": {},
    "colab_type": "code",
    "id": "pJZIdC37yNH4"
   },
   "outputs": [
    {
     "name": "stderr",
     "output_type": "stream",
     "text": [
      "W0810 17:32:27.401099 140625474225984 ffmpeg.py:839] IMAGEIO FFMPEG_WRITER WARNING: input image is not divisible by macro_block_size=16, resizing from (400, 600) to (400, 608) to ensure video compatibility with most codecs and players. To prevent resizing, make your input image divisible by the macro_block_size or set the macro_block_size to None (risking incompatibility). You may also see a FFMPEG warning concerning speedloss due to data not being aligned.\n"
     ]
    },
    {
     "data": {
      "text/html": [
       "\n",
       "  <video width=\"640\" height=\"480\" controls>\n",
       "    <source src=\"data:video/mp4;base64,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\" type=\"video/mp4\">\n",
       "  Your browser does not support the video tag.\n",
       "  </video>"
      ],
      "text/plain": [
       "<IPython.core.display.HTML object>"
      ]
     },
     "execution_count": 79,
     "metadata": {},
     "output_type": "execute_result"
    }
   ],
   "source": [
    "create_policy_eval_video(random_policy, \"random-agent\")"
   ]
  }
 ],
 "metadata": {
  "colab": {
   "collapsed_sections": [],
   "name": "DQN Tutorial.ipynb",
   "private_outputs": true,
   "provenance": [],
   "toc_visible": true
  },
  "kernelspec": {
   "display_name": "Python 3",
   "language": "python",
   "name": "python3"
  },
  "language_info": {
   "codemirror_mode": {
    "name": "ipython",
    "version": 3
   },
   "file_extension": ".py",
   "mimetype": "text/x-python",
   "name": "python",
   "nbconvert_exporter": "python",
   "pygments_lexer": "ipython3",
   "version": "3.6.9"
  },
  "pycharm": {
   "stem_cell": {
    "cell_type": "raw",
    "metadata": {
     "collapsed": false
    },
    "source": []
   }
  }
 },
 "nbformat": 4,
 "nbformat_minor": 1
}
